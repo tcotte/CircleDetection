{
  "cells": [
    {
      "cell_type": "code",
      "execution_count": 2,
      "metadata": {
        "id": "H01XWrna8cAB"
      },
      "outputs": [],
      "source": [
        "import os\n",
        "import torch\n",
        "import numpy as np\n",
        "import cv2\n",
        "import torch\n",
        "from torch import nn\n",
        "from torchvision.ops.boxes import _box_inter_union\n",
        "from torchvision.ops import generalized_box_iou_loss\n",
        "import typing"
      ]
    },
    {
      "cell_type": "code",
      "execution_count": 2,
      "metadata": {
        "colab": {
          "base_uri": "https://localhost:8080/"
        },
        "id": "GBiXbgQo8L3e",
        "outputId": "9e287575-edc4-41a6-8326-89c4a5715957"
      },
      "outputs": [
        {
          "output_type": "stream",
          "name": "stdout",
          "text": [
            "Cloning into 'CircleDetection'...\n",
            "remote: Enumerating objects: 187, done.\u001b[K\n",
            "remote: Counting objects: 100% (187/187), done.\u001b[K\n",
            "remote: Compressing objects: 100% (113/113), done.\u001b[K\n",
            "remote: Total 187 (delta 74), reused 165 (delta 56), pack-reused 0\u001b[K\n",
            "Receiving objects: 100% (187/187), 364.35 KiB | 1.66 MiB/s, done.\n",
            "Resolving deltas: 100% (74/74), done.\n"
          ]
        }
      ],
      "source": [
        "!git clone https://github.com/tcotte/CircleDetection.git"
      ]
    },
    {
      "cell_type": "markdown",
      "metadata": {
        "id": "CVq95DgA1tIx"
      },
      "source": [
        "### Dataset generation"
      ]
    },
    {
      "cell_type": "code",
      "execution_count": 24,
      "metadata": {
        "id": "oWupJWuOhtAX"
      },
      "outputs": [],
      "source": [
        "!rm -rf /content/dataset"
      ]
    },
    {
      "cell_type": "code",
      "execution_count": 3,
      "metadata": {
        "id": "Ks5qYoal8UVY"
      },
      "outputs": [],
      "source": [
        "os.makedirs(os.path.join('/content', 'dataset'))\n",
        "os.makedirs(os.path.join('/content', 'dataset', 'train'))\n",
        "os.makedirs(os.path.join('/content', 'dataset', 'val'))"
      ]
    },
    {
      "cell_type": "code",
      "execution_count": 25,
      "metadata": {
        "colab": {
          "base_uri": "https://localhost:8080/"
        },
        "id": "yt37ZYie9ESZ",
        "outputId": "f261a83d-c5f1-486c-f00e-51bda42c8289"
      },
      "outputs": [
        {
          "output_type": "stream",
          "name": "stdout",
          "text": [
            "[INFO] Directories creation\n",
            "[INFO] Dataset creation\n",
            "100% 4999/4999 [00:03<00:00, 1382.69it/s]\n",
            "[INFO] Directories creation\n",
            "[INFO] Dataset creation\n",
            "100% 499/499 [00:00<00:00, 1347.79it/s]\n"
          ]
        }
      ],
      "source": [
        "!python /content/CircleDetection/dataset_creation/easy_circle.py --path /content/dataset/train --nb_samples 5000 --empty-pix-percentage 0.3\n",
        "!python /content/CircleDetection/dataset_creation/easy_circle.py --path /content/dataset/val --nb_samples 500 --empty-pix-percentage 0.1"
      ]
    },
    {
      "cell_type": "markdown",
      "metadata": {
        "id": "cnM-Ush-1yZt"
      },
      "source": [
        "### Existing daatset"
      ]
    },
    {
      "cell_type": "code",
      "execution_count": null,
      "metadata": {
        "colab": {
          "base_uri": "https://localhost:8080/"
        },
        "id": "H2F-pHUv19SU",
        "outputId": "d82128ec-786f-48e5-8ef4-a6e88cfc2b24"
      },
      "outputs": [
        {
          "name": "stdout",
          "output_type": "stream",
          "text": [
            "Mounted at /content/drive\n"
          ]
        }
      ],
      "source": [
        "from google.colab import drive\n",
        "drive.mount('/content/drive')"
      ]
    },
    {
      "cell_type": "code",
      "execution_count": null,
      "metadata": {
        "id": "dan7NspG2JM2"
      },
      "outputs": [],
      "source": [
        "path_X = '/content/drive/MyDrive/Evry/Legionelles/img'\n",
        "path_y = '/content/drive/MyDrive/Evry/Legionelles/labels'\n",
        "\n",
        "X = [os.path.join(path_X, x) for x in os.listdir(path_X)]\n",
        "y = [os.path.join(path_y, x) for x in os.listdir(path_y)]\n",
        "y.sort()\n",
        "X.sort()"
      ]
    },
    {
      "cell_type": "code",
      "execution_count": null,
      "metadata": {
        "id": "jNT7uvow3RfV"
      },
      "outputs": [],
      "source": [
        "from sklearn.model_selection import train_test_split\n",
        "\n",
        "X_train, X_test, y_train, y_test = train_test_split(X, y, test_size=0.15, random_state=42)"
      ]
    },
    {
      "cell_type": "code",
      "execution_count": null,
      "metadata": {
        "id": "YGeVQvQa8HWd"
      },
      "outputs": [],
      "source": [
        "os.makedirs(os.path.join('/content', 'dataset'))\n",
        "os.makedirs(os.path.join('/content', 'dataset', 'train'))\n",
        "os.makedirs(os.path.join('/content', 'dataset', 'train', 'img'))\n",
        "os.makedirs(os.path.join('/content', 'dataset', 'train', 'labels'))\n",
        "os.makedirs(os.path.join('/content', 'dataset', 'val'))\n",
        "os.makedirs(os.path.join('/content', 'dataset', 'val', 'img'))\n",
        "os.makedirs(os.path.join('/content', 'dataset', 'val', 'labels'))"
      ]
    },
    {
      "cell_type": "code",
      "execution_count": null,
      "metadata": {
        "id": "higaRX4y8aZN"
      },
      "outputs": [],
      "source": [
        "import shutil\n",
        "\n",
        "for dataset, path in zip([X_train, X_test, y_train, y_test], [\"/content/dataset/train/img\", \"/content/dataset/val/img\", \"/content/dataset/train/labels\", \"/content/dataset/val/labels\"]):\n",
        "  for i in dataset:\n",
        "    shutil.copyfile(i, os.path.join(path, i.split('/')[-1]))"
      ]
    },
    {
      "cell_type": "markdown",
      "metadata": {
        "id": "lVj9pEkr23Dw"
      },
      "source": [
        "### Training"
      ]
    },
    {
      "cell_type": "code",
      "execution_count": 27,
      "metadata": {
        "colab": {
          "base_uri": "https://localhost:8080/"
        },
        "id": "1Bqgenei9X1Z",
        "outputId": "e24442a3-6197-4358-d58c-b5daff260270"
      },
      "outputs": [
        {
          "output_type": "stream",
          "name": "stdout",
          "text": [
            "/content/CircleDetection\n"
          ]
        }
      ],
      "source": [
        "%cd /content/CircleDetection"
      ]
    },
    {
      "cell_type": "code",
      "execution_count": null,
      "metadata": {
        "id": "cqHPDdTEBh_t"
      },
      "outputs": [],
      "source": [
        "def giou_loss(input_boxes, target_boxes, eps=1e-7):\n",
        "    \"\"\"\n",
        "    Args:\n",
        "        input_boxes: Tensor of shape (N, 4) or (4,).\n",
        "        target_boxes: Tensor of shape (N, 4) or (4,).\n",
        "        eps (float): small number to prevent division by zero\n",
        "    \"\"\"\n",
        "    inter, union = _box_inter_union(input_boxes, target_boxes)\n",
        "    iou = inter / union\n",
        "\n",
        "    # area of the smallest enclosing box\n",
        "    min_box = torch.min(input_boxes, target_boxes)\n",
        "    max_box = torch.max(input_boxes, target_boxes)\n",
        "    area_c = (max_box[:, 2] - min_box[:, 0]) * (max_box[:, 3] - min_box[:, 1])\n",
        "\n",
        "    giou = iou - ((area_c - union) / (area_c + eps))\n",
        "\n",
        "    loss = 1 - giou\n",
        "\n",
        "    return loss.sum()\n",
        "\n",
        "\n",
        "class GIoULoss(torch.nn.Module):\n",
        "    def __init__(self):\n",
        "        super(GIoULoss, self).__init__()\n",
        "\n",
        "    def forward(self, predictions, target):\n",
        "        return giou_loss(input_boxes=predictions, target_boxes=target, eps=1e-7)\n",
        "\n",
        "from torchvision.ops import distance_box_iou_loss\n",
        "\n",
        "\n",
        "\n",
        "class DIoULoss(torch.nn.Module):\n",
        "    def __init__(self):\n",
        "      super(DIoULoss, self).__init__()\n",
        "\n",
        "    def forward(self, predictions, target):\n",
        "      return distance_box_iou_loss(boxes1=target, boxes2=predictions, reduction=\"mean\")"
      ]
    },
    {
      "cell_type": "code",
      "execution_count": null,
      "metadata": {
        "id": "fV7RrMQPYP07"
      },
      "outputs": [],
      "source": [
        "def fix_bboxes(bboxes):\n",
        "    for box in bboxes:\n",
        "        if box[0] > box[2]:\n",
        "            box[2] = box[0]\n",
        "        if box[1] > box[3]:\n",
        "            box[3] = box[1]\n",
        "    return bboxes\n"
      ]
    },
    {
      "cell_type": "code",
      "execution_count": null,
      "metadata": {
        "id": "VD2F2MSk868u"
      },
      "outputs": [],
      "source": [
        "params= resnet.state_dict()\n",
        "list_layers = list(params.keys())"
      ]
    },
    {
      "cell_type": "code",
      "execution_count": null,
      "metadata": {
        "id": "X8b2buMY_2JF"
      },
      "outputs": [],
      "source": [
        "def print_net_parameters(net):\n",
        "    for name, para in net.named_parameters():\n",
        "        print(\"-\"*20)\n",
        "        print(f\"name: {name}\")\n",
        "        print(\"values: \")\n",
        "        print(param.requires_grad)"
      ]
    },
    {
      "cell_type": "code",
      "execution_count": null,
      "metadata": {
        "id": "4V2fD4Ce_3lE"
      },
      "outputs": [],
      "source": [
        "for name, param in resnet.named_parameters():\n",
        "  if name in list_layers[-5:]:\n",
        "    print(\"yes\")\n",
        "    param.requires_grad = True\n",
        "  else:\n",
        "    param.requires_grad = False\n",
        "\n",
        "print_net_parameters(resnet)"
      ]
    },
    {
      "cell_type": "code",
      "execution_count": 10,
      "metadata": {
        "id": "w9uU3YtobmCZ"
      },
      "outputs": [],
      "source": [
        "%%capture\n",
        "!pip install wandb --upgrade"
      ]
    },
    {
      "cell_type": "code",
      "source": [
        "bs = 64\n",
        "name = \"test_colored_img_prob\"\n",
        "src = \"/content/dataset\"\n",
        "\n",
        "!python train.py --batch-size {bs} --name {name} --bbox-ratio 0.7 --prob-ratio 0.3 --pretrained --wb --imgsz 128 128 --lr 1e-5 --path {src} --unfreeze 0"
      ],
      "metadata": {
        "id": "BY7SbXmepRNl"
      },
      "execution_count": null,
      "outputs": []
    },
    {
      "cell_type": "code",
      "source": [
        "from metrics import get_iou\n",
        "import albumentations as A\n",
        "from albumentations.pytorch import ToTensorV2\n",
        "from torch_datasets import CustomImageDataset\n",
        "import matplotlib.pyplot as plt\n",
        "\n",
        "# IMGSZ = 128*2, 128*2\n",
        "\n",
        "bbox_format = 'albumentations'\n",
        "test_transform =  A.Compose([\n",
        "    # A.augmentations.geometric.resize.Resize(*IMGSZ, interpolation=1, always_apply=False, p=1),\n",
        "    A.Normalize(always_apply=True),\n",
        "    ToTensorV2()],\n",
        "    bbox_params=A.BboxParams(format=bbox_format, label_fields=['category_ids'])\n",
        ")\n",
        "\n",
        "val_dataset = CustomImageDataset(\n",
        "    img_dir=r\"/content/dataset/val/img\",\n",
        "    label_dir=r\"/content/dataset/val/labels\", transform=test_transform)\n",
        "\n",
        "\n",
        "validation_loader = torch.utils.data.DataLoader(val_dataset, batch_size=4, shuffle=False)\n",
        "\n",
        "idx = 18\n",
        "\n",
        "\n",
        "\n",
        "model = torch.load(\"/content/CircleDetection/trained_models/test_colored_img_prob.pt\", map_location=\"cpu\")\n",
        "model.eval()\n",
        "model.to('cpu')\n",
        "\n",
        "avg_iou = 0\n",
        "\n",
        "for idx in range(20, 50):\n",
        "\n",
        "  with torch.no_grad():\n",
        "\n",
        "      # print(train_dataset[0][0])\n",
        "      sample = val_dataset[idx]\n",
        "      image = sample[0].type(torch.FloatTensor)\n",
        "\n",
        "      image = torch.unsqueeze(image, 0)\n",
        "\n",
        "      output = model(image)\n",
        "\n",
        "\n",
        "      image = cv2.imread(os.path.join(r\"/content/dataset/val/img\", val_dataset[idx][-1]))\n",
        "\n",
        "      coords = np.array(output[0][0])\n",
        "      coords = np.expand_dims(coords, axis=0)\n",
        "      coords = remap_coords(bboxes=coords, img_size=image.shape[:2])\n",
        "      print(\"There is {probability:.2f} % chance that a circle lying in the picture with {coords} coordinates\".format(\n",
        "          probability=output[2].item()*100,\n",
        "          coords=coords))\n",
        "      for coord in coords:\n",
        "        cv2.rectangle(image, (coord[0], coord[1]), (coord[2], coord[3]), (0, 255, 255), 1)\n",
        "      plt.imshow(image)\n",
        "      plt.show()"
      ],
      "metadata": {
        "colab": {
          "base_uri": "https://localhost:8080/",
          "height": 1000
        },
        "id": "SGSpkpnkL7TM",
        "outputId": "faedf067-3942-4f86-8805-8b28afb37496"
      },
      "execution_count": 59,
      "outputs": [
        {
          "output_type": "stream",
          "name": "stdout",
          "text": [
            "There is 100.00 % chance that a circle lying in the picture with [[17 19 88 91]] coordinates\n"
          ]
        },
        {
          "output_type": "display_data",
          "data": {
            "text/plain": [
              "<Figure size 640x480 with 1 Axes>"
            ],
            "image/png": "[encoded data removed]"
          },
          "metadata": {}
        },
        {
          "output_type": "stream",
          "name": "stdout",
          "text": [
            "There is 100.00 % chance that a circle lying in the picture with [[45  2 82 40]] coordinates\n"
          ]
        },
        {
          "output_type": "display_data",
          "data": {
            "text/plain": [
              "<Figure size 640x480 with 1 Axes>"
            ],
            "image/png": "[encoded data removed]"
          },
          "metadata": {}
        },
        {
          "output_type": "stream",
          "name": "stdout",
          "text": [
            "There is 100.00 % chance that a circle lying in the picture with [[ 2  2 83 85]] coordinates\n"
          ]
        },
        {
          "output_type": "display_data",
          "data": {
            "text/plain": [
              "<Figure size 640x480 with 1 Axes>"
            ],
            "image/png": "[encoded data removed]"
          },
          "metadata": {}
        },
        {
          "output_type": "stream",
          "name": "stdout",
          "text": [
            "There is 100.00 % chance that a circle lying in the picture with [[34 60 56 82]] coordinates\n"
          ]
        },
        {
          "output_type": "display_data",
          "data": {
            "text/plain": [
              "<Figure size 640x480 with 1 Axes>"
            ],
            "image/png": "[encoded data removed]"
          },
          "metadata": {}
        },
        {
          "output_type": "stream",
          "name": "stdout",
          "text": [
            "There is 100.00 % chance that a circle lying in the picture with [[ 2  4 68 72]] coordinates\n"
          ]
        },
        {
          "output_type": "display_data",
          "data": {
            "text/plain": [
              "<Figure size 640x480 with 1 Axes>"
            ],
            "image/png": "[encoded data removed]"
          },
          "metadata": {}
        },
        {
          "output_type": "stream",
          "name": "stdout",
          "text": [
            "There is 100.00 % chance that a circle lying in the picture with [[ 8 26 72 89]] coordinates\n"
          ]
        },
        {
          "output_type": "display_data",
          "data": {
            "text/plain": [
              "<Figure size 640x480 with 1 Axes>"
            ],
            "image/png": "[encoded data removed]"
          },
          "metadata": {}
        },
        {
          "output_type": "stream",
          "name": "stdout",
          "text": [
            "There is 0.00 % chance that a circle lying in the picture with [[0 0 0 0]] coordinates\n"
          ]
        },
        {
          "output_type": "display_data",
          "data": {
            "text/plain": [
              "<Figure size 640x480 with 1 Axes>"
            ],
            "image/png": "[encoded data removed]"
          },
          "metadata": {}
        },
        {
          "output_type": "stream",
          "name": "stdout",
          "text": [
            "There is 100.00 % chance that a circle lying in the picture with [[37 10 96 68]] coordinates\n"
          ]
        },
        {
          "output_type": "display_data",
          "data": {
            "text/plain": [
              "<Figure size 640x480 with 1 Axes>"
            ],
            "image/png": "[encoded data removed]"
          },
          "metadata": {}
        },
        {
          "output_type": "stream",
          "name": "stdout",
          "text": [
            "There is 100.00 % chance that a circle lying in the picture with [[ 9  9 87 87]] coordinates\n"
          ]
        },
        {
          "output_type": "display_data",
          "data": {
            "text/plain": [
              "<Figure size 640x480 with 1 Axes>"
            ],
            "image/png": "[encoded data removed]"
          },
          "metadata": {}
        },
        {
          "output_type": "stream",
          "name": "stdout",
          "text": [
            "no ann\n",
            "no ann\n",
            "There is 0.00 % chance that a circle lying in the picture with [[0 0 0 0]] coordinates\n"
          ]
        },
        {
          "output_type": "display_data",
          "data": {
            "text/plain": [
              "<Figure size 640x480 with 1 Axes>"
            ],
            "image/png": "[encoded data removed]"
          },
          "metadata": {}
        },
        {
          "output_type": "stream",
          "name": "stdout",
          "text": [
            "There is 100.00 % chance that a circle lying in the picture with [[ 5  5 73 73]] coordinates\n"
          ]
        },
        {
          "output_type": "display_data",
          "data": {
            "text/plain": [
              "<Figure size 640x480 with 1 Axes>"
            ],
            "image/png": "[encoded data removed]"
          },
          "metadata": {}
        },
        {
          "output_type": "stream",
          "name": "stdout",
          "text": [
            "no ann\n",
            "no ann\n",
            "There is 0.00 % chance that a circle lying in the picture with [[0 0 0 0]] coordinates\n"
          ]
        },
        {
          "output_type": "display_data",
          "data": {
            "text/plain": [
              "<Figure size 640x480 with 1 Axes>"
            ],
            "image/png": "[encoded data removed]"
          },
          "metadata": {}
        },
        {
          "output_type": "stream",
          "name": "stdout",
          "text": [
            "There is 99.99 % chance that a circle lying in the picture with [[62 62 79 80]] coordinates\n"
          ]
        },
        {
          "output_type": "display_data",
          "data": {
            "text/plain": [
              "<Figure size 640x480 with 1 Axes>"
            ],
            "image/png": "[encoded data removed]"
          },
          "metadata": {}
        },
        {
          "output_type": "stream",
          "name": "stdout",
          "text": [
            "There is 100.00 % chance that a circle lying in the picture with [[18 52 38 72]] coordinates\n"
          ]
        },
        {
          "output_type": "display_data",
          "data": {
            "text/plain": [
              "<Figure size 640x480 with 1 Axes>"
            ],
            "image/png": "[encoded data removed]"
          },
          "metadata": {}
        },
        {
          "output_type": "stream",
          "name": "stdout",
          "text": [
            "There is 100.00 % chance that a circle lying in the picture with [[ 3  3 83 83]] coordinates\n"
          ]
        },
        {
          "output_type": "display_data",
          "data": {
            "text/plain": [
              "<Figure size 640x480 with 1 Axes>"
            ],
            "image/png": "[encoded data removed]"
          },
          "metadata": {}
        },
        {
          "output_type": "stream",
          "name": "stdout",
          "text": [
            "There is 100.00 % chance that a circle lying in the picture with [[25 35 63 73]] coordinates\n"
          ]
        },
        {
          "output_type": "display_data",
          "data": {
            "text/plain": [
              "<Figure size 640x480 with 1 Axes>"
            ],
            "image/png": "[encoded data removed]"
          },
          "metadata": {}
        },
        {
          "output_type": "stream",
          "name": "stdout",
          "text": [
            "There is 100.00 % chance that a circle lying in the picture with [[25  5 81 61]] coordinates\n"
          ]
        },
        {
          "output_type": "display_data",
          "data": {
            "text/plain": [
              "<Figure size 640x480 with 1 Axes>"
            ],
            "image/png": "[encoded data removed]"
          },
          "metadata": {}
        },
        {
          "output_type": "stream",
          "name": "stdout",
          "text": [
            "There is 100.00 % chance that a circle lying in the picture with [[ 41  53  90 102]] coordinates\n"
          ]
        },
        {
          "output_type": "display_data",
          "data": {
            "text/plain": [
              "<Figure size 640x480 with 1 Axes>"
            ],
            "image/png": "[encoded data removed]"
          },
          "metadata": {}
        },
        {
          "output_type": "stream",
          "name": "stdout",
          "text": [
            "no ann\n",
            "no ann\n",
            "There is 0.00 % chance that a circle lying in the picture with [[0 0 0 0]] coordinates\n"
          ]
        },
        {
          "output_type": "display_data",
          "data": {
            "text/plain": [
              "<Figure size 640x480 with 1 Axes>"
            ],
            "image/png": "[encoded data removed]"
          },
          "metadata": {}
        },
        {
          "output_type": "stream",
          "name": "stdout",
          "text": [
            "There is 100.00 % chance that a circle lying in the picture with [[71 30 81 40]] coordinates\n"
          ]
        },
        {
          "output_type": "display_data",
          "data": {
            "text/plain": [
              "<Figure size 640x480 with 1 Axes>"
            ],
            "image/png": "[encoded data removed]"
          },
          "metadata": {}
        },
        {
          "output_type": "stream",
          "name": "stdout",
          "text": [
            "There is 100.00 % chance that a circle lying in the picture with [[16 19 76 79]] coordinates\n"
          ]
        },
        {
          "output_type": "display_data",
          "data": {
            "text/plain": [
              "<Figure size 640x480 with 1 Axes>"
            ],
            "image/png": "[encoded data removed]"
          },
          "metadata": {}
        },
        {
          "output_type": "stream",
          "name": "stdout",
          "text": [
            "There is 100.00 % chance that a circle lying in the picture with [[ 63  82  84 103]] coordinates\n"
          ]
        },
        {
          "output_type": "display_data",
          "data": {
            "text/plain": [
              "<Figure size 640x480 with 1 Axes>"
            ],
            "image/png": "[encoded data removed]"
          },
          "metadata": {}
        },
        {
          "output_type": "stream",
          "name": "stdout",
          "text": [
            "There is 100.00 % chance that a circle lying in the picture with [[ 3  2 71 69]] coordinates\n"
          ]
        },
        {
          "output_type": "display_data",
          "data": {
            "text/plain": [
              "<Figure size 640x480 with 1 Axes>"
            ],
            "image/png": "[encoded data removed]"
          },
          "metadata": {}
        },
        {
          "output_type": "stream",
          "name": "stdout",
          "text": [
            "There is 100.00 % chance that a circle lying in the picture with [[ 7 28 65 85]] coordinates\n"
          ]
        },
        {
          "output_type": "display_data",
          "data": {
            "text/plain": [
              "<Figure size 640x480 with 1 Axes>"
            ],
            "image/png": "[encoded data removed]"
          },
          "metadata": {}
        },
        {
          "output_type": "stream",
          "name": "stdout",
          "text": [
            "There is 100.00 % chance that a circle lying in the picture with [[34  3 82 52]] coordinates\n"
          ]
        },
        {
          "output_type": "display_data",
          "data": {
            "text/plain": [
              "<Figure size 640x480 with 1 Axes>"
            ],
            "image/png": "[encoded data removed]"
          },
          "metadata": {}
        },
        {
          "output_type": "stream",
          "name": "stdout",
          "text": [
            "There is 100.00 % chance that a circle lying in the picture with [[14 17 82 85]] coordinates\n"
          ]
        },
        {
          "output_type": "display_data",
          "data": {
            "text/plain": [
              "<Figure size 640x480 with 1 Axes>"
            ],
            "image/png": "[encoded data removed]"
          },
          "metadata": {}
        },
        {
          "output_type": "stream",
          "name": "stdout",
          "text": [
            "no ann\n",
            "no ann\n",
            "There is 0.00 % chance that a circle lying in the picture with [[0 0 0 0]] coordinates\n"
          ]
        },
        {
          "output_type": "display_data",
          "data": {
            "text/plain": [
              "<Figure size 640x480 with 1 Axes>"
            ],
            "image/png": "[encoded data removed]"
          },
          "metadata": {}
        },
        {
          "output_type": "stream",
          "name": "stdout",
          "text": [
            "There is 100.00 % chance that a circle lying in the picture with [[15 19 79 83]] coordinates\n"
          ]
        },
        {
          "output_type": "display_data",
          "data": {
            "text/plain": [
              "<Figure size 640x480 with 1 Axes>"
            ],
            "image/png": "[encoded data removed]"
          },
          "metadata": {}
        },
        {
          "output_type": "stream",
          "name": "stdout",
          "text": [
            "There is 100.00 % chance that a circle lying in the picture with [[ 8  6 86 83]] coordinates\n"
          ]
        },
        {
          "output_type": "display_data",
          "data": {
            "text/plain": [
              "<Figure size 640x480 with 1 Axes>"
            ],
            "image/png": "[encoded data removed]"
          },
          "metadata": {}
        },
        {
          "output_type": "stream",
          "name": "stdout",
          "text": [
            "There is 100.00 % chance that a circle lying in the picture with [[ 2  1 85 85]] coordinates\n"
          ]
        },
        {
          "output_type": "display_data",
          "data": {
            "text/plain": [
              "<Figure size 640x480 with 1 Axes>"
            ],
            "image/png": "[encoded data removed]"
          },
          "metadata": {}
        }
      ]
    },
    {
      "cell_type": "code",
      "source": [
        "output[2].item()"
      ],
      "metadata": {
        "colab": {
          "base_uri": "https://localhost:8080/"
        },
        "id": "772j4WyepKVN",
        "outputId": "65eac0d2-be82-4738-ff8b-1c631007d8ac"
      },
      "execution_count": 53,
      "outputs": [
        {
          "output_type": "execute_result",
          "data": {
            "text/plain": [
              "0.9999998807907104"
            ]
          },
          "metadata": {},
          "execution_count": 53
        }
      ]
    },
    {
      "cell_type": "code",
      "execution_count": 5,
      "metadata": {
        "id": "u33tGUN3fm95"
      },
      "outputs": [],
      "source": [
        "%load_ext autoreload\n",
        "%autoreload 2"
      ]
    },
    {
      "cell_type": "code",
      "execution_count": null,
      "metadata": {
        "id": "GirOlhT1Fqq5"
      },
      "outputs": [],
      "source": [
        "import importlib\n",
        "from torch_datasets import CustomImageDataset"
      ]
    },
    {
      "cell_type": "code",
      "execution_count": null,
      "metadata": {
        "id": "TE0pwOAlFM2L"
      },
      "outputs": [],
      "source": [
        "%reload_ext autoreload"
      ]
    },
    {
      "cell_type": "code",
      "execution_count": null,
      "metadata": {
        "colab": {
          "background_save": true,
          "base_uri": "https://localhost:8080/",
          "height": 1000,
          "referenced_widgets": [
            "051ecf0f609541dbadf446c348102194",
            "bab3a9fdac9849759e230b164db4e026",
            "8d789048f30c493ab8883451ca340222",
            "ce36b7d43edd487e96a50523bfe05a6f",
            "98eeb4764ba24a1190931e2a3b3e0708",
            "a21b7b1fc13d44d2a7ae10ce8b1f3528",
            "4cb6ccee6f124b8696f4d3eb53526234",
            "4a73a668483742b0baaf79d948253401"
          ]
        },
        "id": "SYH5w_xD-WWf",
        "outputId": "85be0deb-5f34-47f8-9ea6-bb58fdfdb7f0"
      },
      "outputs": [
        {
          "name": "stderr",
          "output_type": "stream",
          "text": [
            "/usr/local/lib/python3.10/dist-packages/torchvision/models/_utils.py:208: UserWarning: The parameter 'pretrained' is deprecated since 0.13 and may be removed in the future, please use 'weights' instead.\n",
            "  warnings.warn(\n",
            "/usr/local/lib/python3.10/dist-packages/torchvision/models/_utils.py:223: UserWarning: Arguments other than a weight enum or `None` for 'weights' are deprecated since 0.13 and may be removed in the future. The current behavior is equivalent to passing `weights=None`.\n",
            "  warnings.warn(msg)\n",
            "\u001b[34m\u001b[1mwandb\u001b[0m: \u001b[33mWARNING\u001b[0m Calling wandb.login() after wandb.init() has no effect.\n"
          ]
        },
        {
          "name": "stdout",
          "output_type": "stream",
          "text": [
            "[INFO] total training samples: 4999...\n",
            "[INFO] total test samples: 499...\n"
          ]
        },
        {
          "data": {
            "text/html": [
              "Finishing last run (ID:test_wb_proba2) before initializing another..."
            ],
            "text/plain": [
              "<IPython.core.display.HTML object>"
            ]
          },
          "metadata": {},
          "output_type": "display_data"
        },
        {
          "data": {
            "text/html": [
              "Waiting for W&B process to finish... <strong style=\"color:green\">(success).</strong>"
            ],
            "text/plain": [
              "<IPython.core.display.HTML object>"
            ]
          },
          "metadata": {},
          "output_type": "display_data"
        },
        {
          "data": {
            "application/vnd.jupyter.widget-view+json": {
              "model_id": "051ecf0f609541dbadf446c348102194",
              "version_major": 2,
              "version_minor": 0
            },
            "text/plain": [
              "VBox(children=(Label(value='0.002 MB of 0.002 MB uploaded (0.000 MB deduped)\\r'), FloatProgress(value=1.0, max…"
            ]
          },
          "metadata": {},
          "output_type": "display_data"
        },
        {
          "data": {
            "text/html": [
              " View run <strong style=\"color:#cdcd00\">test_wb_proba2</strong> at: <a href='https://wandb.ai/tcotte/circle_detection/runs/test_wb_proba2' target=\"_blank\">https://wandb.ai/tcotte/circle_detection/runs/test_wb_proba2</a><br/>Synced 5 W&B file(s), 0 media file(s), 0 artifact file(s) and 0 other file(s)"
            ],
            "text/plain": [
              "<IPython.core.display.HTML object>"
            ]
          },
          "metadata": {},
          "output_type": "display_data"
        },
        {
          "data": {
            "text/html": [
              "Find logs at: <code>./wandb/run-20230608_152815-test_wb_proba2/logs</code>"
            ],
            "text/plain": [
              "<IPython.core.display.HTML object>"
            ]
          },
          "metadata": {},
          "output_type": "display_data"
        },
        {
          "data": {
            "text/html": [
              "Successfully finished last run (ID:test_wb_proba2). Initializing new run:<br/>"
            ],
            "text/plain": [
              "<IPython.core.display.HTML object>"
            ]
          },
          "metadata": {},
          "output_type": "display_data"
        },
        {
          "data": {
            "text/html": [
              "Tracking run with wandb version 0.15.4"
            ],
            "text/plain": [
              "<IPython.core.display.HTML object>"
            ]
          },
          "metadata": {},
          "output_type": "display_data"
        },
        {
          "data": {
            "text/html": [
              "Run data is saved locally in <code>/content/CircleDetection/wandb/run-20230608_153058-test_wb_proba2</code>"
            ],
            "text/plain": [
              "<IPython.core.display.HTML object>"
            ]
          },
          "metadata": {},
          "output_type": "display_data"
        },
        {
          "data": {
            "text/html": [
              "Syncing run <strong><a href='https://wandb.ai/tcotte/circle_detection/runs/test_wb_proba2' target=\"_blank\">test_wb_proba2</a></strong> to <a href='https://wandb.ai/tcotte/circle_detection' target=\"_blank\">Weights & Biases</a> (<a href='https://wandb.me/run' target=\"_blank\">docs</a>)<br/>"
            ],
            "text/plain": [
              "<IPython.core.display.HTML object>"
            ]
          },
          "metadata": {},
          "output_type": "display_data"
        },
        {
          "data": {
            "text/html": [
              " View project at <a href='https://wandb.ai/tcotte/circle_detection' target=\"_blank\">https://wandb.ai/tcotte/circle_detection</a>"
            ],
            "text/plain": [
              "<IPython.core.display.HTML object>"
            ]
          },
          "metadata": {},
          "output_type": "display_data"
        },
        {
          "data": {
            "text/html": [
              " View run at <a href='https://wandb.ai/tcotte/circle_detection/runs/test_wb_proba2' target=\"_blank\">https://wandb.ai/tcotte/circle_detection/runs/test_wb_proba2</a>"
            ],
            "text/plain": [
              "<IPython.core.display.HTML object>"
            ]
          },
          "metadata": {},
          "output_type": "display_data"
        },
        {
          "name": "stdout",
          "output_type": "stream",
          "text": [
            "[INFO] training the network...\n"
          ]
        },
        {
          "name": "stderr",
          "output_type": "stream",
          "text": [
            "  0%|          | 1/300 [03:17<16:24:47, 197.62s/it]"
          ]
        },
        {
          "name": "stdout",
          "output_type": "stream",
          "text": [
            "[INFO] EPOCH: 1/300\n",
            "Train loss: 1.303622, Train accuracy: 0.00011711\n",
            "Val loss: 0.781512, Val accuracy: 0.00017341\n",
            "[INFO] total time taken to train the model: 197.62s\n"
          ]
        },
        {
          "name": "stderr",
          "output_type": "stream",
          "text": [
            "\r  1%|          | 2/300 [06:35<16:21:10, 197.55s/it]"
          ]
        },
        {
          "name": "stdout",
          "output_type": "stream",
          "text": [
            "[INFO] EPOCH: 2/300\n",
            "Train loss: 1.037798, Train accuracy: 0.07719205\n",
            "Val loss: 0.792217, Val accuracy: 0.03272428\n",
            "[INFO] total time taken to train the model: 395.12s\n"
          ]
        },
        {
          "name": "stderr",
          "output_type": "stream",
          "text": [
            "\r  1%|          | 3/300 [09:52<16:17:59, 197.57s/it]"
          ]
        },
        {
          "name": "stdout",
          "output_type": "stream",
          "text": [
            "[INFO] EPOCH: 3/300\n",
            "Train loss: 0.884617, Train accuracy: 0.11833947\n",
            "Val loss: 0.778375, Val accuracy: 0.03958389\n",
            "[INFO] total time taken to train the model: 592.73s\n"
          ]
        },
        {
          "name": "stderr",
          "output_type": "stream",
          "text": [
            "\r  1%|▏         | 4/300 [13:10<16:14:36, 197.56s/it]"
          ]
        },
        {
          "name": "stdout",
          "output_type": "stream",
          "text": [
            "[INFO] EPOCH: 4/300\n",
            "Train loss: 0.820534, Train accuracy: 0.11647362\n",
            "Val loss: 0.780348, Val accuracy: 0.04113686\n",
            "[INFO] total time taken to train the model: 790.25s\n"
          ]
        },
        {
          "name": "stderr",
          "output_type": "stream",
          "text": [
            "\r  2%|▏         | 5/300 [16:27<16:11:20, 197.56s/it]"
          ]
        },
        {
          "name": "stdout",
          "output_type": "stream",
          "text": [
            "[INFO] EPOCH: 5/300\n",
            "Train loss: 0.796158, Train accuracy: 0.11447337\n",
            "Val loss: 0.772358, Val accuracy: 0.04526424\n",
            "[INFO] total time taken to train the model: 987.82s\n"
          ]
        },
        {
          "name": "stderr",
          "output_type": "stream",
          "text": [
            "\r  2%|▏         | 6/300 [19:45<16:08:18, 197.62s/it]"
          ]
        },
        {
          "name": "stdout",
          "output_type": "stream",
          "text": [
            "[INFO] EPOCH: 6/300\n",
            "Train loss: 0.762001, Train accuracy: 0.11538278\n",
            "Val loss: 0.787412, Val accuracy: 0.03584207\n",
            "[INFO] total time taken to train the model: 1185.54s\n"
          ]
        },
        {
          "name": "stderr",
          "output_type": "stream",
          "text": [
            "\r  2%|▏         | 7/300 [23:02<16:04:42, 197.55s/it]"
          ]
        },
        {
          "name": "stdout",
          "output_type": "stream",
          "text": [
            "[INFO] EPOCH: 7/300\n",
            "Train loss: 0.761688, Train accuracy: 0.11826673\n",
            "Val loss: 0.799987, Val accuracy: 0.02375693\n",
            "[INFO] total time taken to train the model: 1382.97s\n"
          ]
        },
        {
          "name": "stderr",
          "output_type": "stream",
          "text": [
            "\r  3%|▎         | 8/300 [26:20<16:01:51, 197.64s/it]"
          ]
        },
        {
          "name": "stdout",
          "output_type": "stream",
          "text": [
            "[INFO] EPOCH: 8/300\n",
            "Train loss: 0.730419, Train accuracy: 0.11731052\n",
            "Val loss: 0.745888, Val accuracy: 0.06600502\n",
            "[INFO] total time taken to train the model: 1580.81s\n"
          ]
        },
        {
          "name": "stderr",
          "output_type": "stream",
          "text": [
            "\r  3%|▎         | 9/300 [29:38<15:58:18, 197.59s/it]"
          ]
        },
        {
          "name": "stdout",
          "output_type": "stream",
          "text": [
            "[INFO] EPOCH: 9/300\n",
            "Train loss: 0.717356, Train accuracy: 0.12043500\n",
            "Val loss: 0.776437, Val accuracy: 0.04474654\n",
            "[INFO] total time taken to train the model: 1778.27s\n"
          ]
        },
        {
          "name": "stderr",
          "output_type": "stream",
          "text": [
            "\r  3%|▎         | 10/300 [32:55<15:54:54, 197.57s/it]"
          ]
        },
        {
          "name": "stdout",
          "output_type": "stream",
          "text": [
            "[INFO] EPOCH: 10/300\n",
            "Train loss: 0.720825, Train accuracy: 0.12108253\n",
            "Val loss: 0.767810, Val accuracy: 0.05016519\n",
            "[INFO] total time taken to train the model: 1975.80s\n"
          ]
        },
        {
          "name": "stderr",
          "output_type": "stream",
          "text": [
            "\r  4%|▎         | 11/300 [36:13<15:51:37, 197.57s/it]"
          ]
        },
        {
          "name": "stdout",
          "output_type": "stream",
          "text": [
            "[INFO] EPOCH: 11/300\n",
            "Train loss: 0.715649, Train accuracy: 0.12140645\n",
            "Val loss: 0.748367, Val accuracy: 0.06715749\n",
            "[INFO] total time taken to train the model: 2173.37s\n"
          ]
        },
        {
          "name": "stderr",
          "output_type": "stream",
          "text": [
            "\r  4%|▍         | 12/300 [39:30<15:48:04, 197.52s/it]"
          ]
        },
        {
          "name": "stdout",
          "output_type": "stream",
          "text": [
            "[INFO] EPOCH: 12/300\n",
            "Train loss: 0.691196, Train accuracy: 0.12034125\n",
            "Val loss: 0.754943, Val accuracy: 0.05589204\n",
            "[INFO] total time taken to train the model: 2370.77s\n"
          ]
        },
        {
          "name": "stderr",
          "output_type": "stream",
          "text": [
            "\r  4%|▍         | 13/300 [42:48<15:44:56, 197.55s/it]"
          ]
        },
        {
          "name": "stdout",
          "output_type": "stream",
          "text": [
            "[INFO] EPOCH: 13/300\n",
            "Train loss: 0.696087, Train accuracy: 0.12086355\n",
            "Val loss: 0.731092, Val accuracy: 0.07598009\n",
            "[INFO] total time taken to train the model: 2568.38s\n"
          ]
        },
        {
          "name": "stderr",
          "output_type": "stream",
          "text": [
            "\r  5%|▍         | 14/300 [46:05<15:41:33, 197.53s/it]"
          ]
        },
        {
          "name": "stdout",
          "output_type": "stream",
          "text": [
            "[INFO] EPOCH: 14/300\n",
            "Train loss: 0.680313, Train accuracy: 0.12166989\n",
            "Val loss: 0.751694, Val accuracy: 0.06340447\n",
            "[INFO] total time taken to train the model: 2765.88s\n"
          ]
        },
        {
          "name": "stderr",
          "output_type": "stream",
          "text": [
            "\r  5%|▌         | 15/300 [49:23<15:37:58, 197.47s/it]"
          ]
        },
        {
          "name": "stdout",
          "output_type": "stream",
          "text": [
            "[INFO] EPOCH: 15/300\n",
            "Train loss: 0.682343, Train accuracy: 0.12085574\n",
            "Val loss: 0.727933, Val accuracy: 0.07868211\n",
            "[INFO] total time taken to train the model: 2963.20s\n"
          ]
        },
        {
          "name": "stderr",
          "output_type": "stream",
          "text": [
            "\r  5%|▌         | 16/300 [52:40<15:35:03, 197.55s/it]"
          ]
        },
        {
          "name": "stdout",
          "output_type": "stream",
          "text": [
            "[INFO] EPOCH: 16/300\n",
            "Train loss: 0.678510, Train accuracy: 0.12194642\n",
            "Val loss: 0.768850, Val accuracy: 0.04850794\n",
            "[INFO] total time taken to train the model: 3160.93s\n"
          ]
        },
        {
          "name": "stderr",
          "output_type": "stream",
          "text": [
            "\r  6%|▌         | 17/300 [55:58<15:31:53, 197.57s/it]"
          ]
        },
        {
          "name": "stdout",
          "output_type": "stream",
          "text": [
            "[INFO] EPOCH: 17/300\n",
            "Train loss: 0.675261, Train accuracy: 0.12140887\n",
            "Val loss: 0.732105, Val accuracy: 0.08048059\n",
            "[INFO] total time taken to train the model: 3358.57s\n"
          ]
        },
        {
          "name": "stderr",
          "output_type": "stream",
          "text": [
            "\r  6%|▌         | 18/300 [59:16<15:28:32, 197.56s/it]"
          ]
        },
        {
          "name": "stdout",
          "output_type": "stream",
          "text": [
            "[INFO] EPOCH: 18/300\n",
            "Train loss: 0.678272, Train accuracy: 0.12213333\n",
            "Val loss: 0.745539, Val accuracy: 0.06565947\n",
            "[INFO] total time taken to train the model: 3556.10s\n"
          ]
        },
        {
          "name": "stderr",
          "output_type": "stream",
          "text": [
            "\r  6%|▋         | 19/300 [1:02:33<15:25:14, 197.56s/it]"
          ]
        },
        {
          "name": "stdout",
          "output_type": "stream",
          "text": [
            "[INFO] EPOCH: 19/300\n",
            "Train loss: 0.667817, Train accuracy: 0.12127014\n",
            "Val loss: 0.703226, Val accuracy: 0.09966801\n",
            "[INFO] total time taken to train the model: 3753.66s\n"
          ]
        },
        {
          "name": "stderr",
          "output_type": "stream",
          "text": [
            "\r  7%|▋         | 20/300 [1:05:51<15:21:53, 197.55s/it]"
          ]
        },
        {
          "name": "stdout",
          "output_type": "stream",
          "text": [
            "[INFO] EPOCH: 20/300\n",
            "Train loss: 0.679918, Train accuracy: 0.12218985\n",
            "Val loss: 0.717042, Val accuracy: 0.09216902\n",
            "[INFO] total time taken to train the model: 3951.17s\n"
          ]
        },
        {
          "name": "stderr",
          "output_type": "stream",
          "text": [
            "\r  7%|▋         | 21/300 [1:09:09<15:19:04, 197.65s/it]"
          ]
        },
        {
          "name": "stdout",
          "output_type": "stream",
          "text": [
            "[INFO] EPOCH: 21/300\n",
            "Train loss: 0.674886, Train accuracy: 0.12251055\n",
            "Val loss: 0.725929, Val accuracy: 0.08359123\n",
            "[INFO] total time taken to train the model: 4149.06s\n"
          ]
        },
        {
          "name": "stderr",
          "output_type": "stream",
          "text": [
            "\r  7%|▋         | 22/300 [1:12:26<15:15:45, 197.65s/it]"
          ]
        },
        {
          "name": "stdout",
          "output_type": "stream",
          "text": [
            "[INFO] EPOCH: 22/300\n",
            "Train loss: 0.671215, Train accuracy: 0.12255335\n",
            "Val loss: 0.749688, Val accuracy: 0.06528968\n",
            "[INFO] total time taken to train the model: 4346.70s\n"
          ]
        },
        {
          "name": "stderr",
          "output_type": "stream",
          "text": [
            "\r  8%|▊         | 23/300 [1:15:44<15:12:49, 197.72s/it]"
          ]
        },
        {
          "name": "stdout",
          "output_type": "stream",
          "text": [
            "[INFO] EPOCH: 23/300\n",
            "Train loss: 0.663631, Train accuracy: 0.12155689\n",
            "Val loss: 0.732600, Val accuracy: 0.07447681\n",
            "[INFO] total time taken to train the model: 4544.60s\n"
          ]
        },
        {
          "name": "stderr",
          "output_type": "stream",
          "text": [
            "\r  8%|▊         | 24/300 [1:19:01<15:09:04, 197.62s/it]"
          ]
        },
        {
          "name": "stdout",
          "output_type": "stream",
          "text": [
            "[INFO] EPOCH: 24/300\n",
            "Train loss: 0.662971, Train accuracy: 0.12127201\n",
            "Val loss: 0.708740, Val accuracy: 0.09578454\n",
            "[INFO] total time taken to train the model: 4742.00s\n"
          ]
        },
        {
          "name": "stderr",
          "output_type": "stream",
          "text": [
            "\r  8%|▊         | 25/300 [1:22:19<15:05:56, 197.66s/it]"
          ]
        },
        {
          "name": "stdout",
          "output_type": "stream",
          "text": [
            "[INFO] EPOCH: 25/300\n",
            "Train loss: 0.661190, Train accuracy: 0.12122071\n",
            "Val loss: 0.730737, Val accuracy: 0.07914125\n",
            "[INFO] total time taken to train the model: 4939.74s\n"
          ]
        },
        {
          "name": "stderr",
          "output_type": "stream",
          "text": [
            "\r  9%|▊         | 26/300 [1:25:37<15:02:22, 197.60s/it]"
          ]
        },
        {
          "name": "stdout",
          "output_type": "stream",
          "text": [
            "[INFO] EPOCH: 26/300\n",
            "Train loss: 0.659212, Train accuracy: 0.12140268\n",
            "Val loss: 0.706158, Val accuracy: 0.09243460\n",
            "[INFO] total time taken to train the model: 5137.21s\n"
          ]
        },
        {
          "name": "stderr",
          "output_type": "stream",
          "text": [
            "\r  9%|▉         | 27/300 [1:28:55<14:59:33, 197.71s/it]"
          ]
        },
        {
          "name": "stdout",
          "output_type": "stream",
          "text": [
            "[INFO] EPOCH: 27/300\n",
            "Train loss: 0.657891, Train accuracy: 0.12173951\n",
            "Val loss: 0.737702, Val accuracy: 0.07415602\n",
            "[INFO] total time taken to train the model: 5335.15s\n"
          ]
        },
        {
          "name": "stderr",
          "output_type": "stream",
          "text": [
            "\r  9%|▉         | 28/300 [1:32:12<14:56:08, 197.68s/it]"
          ]
        },
        {
          "name": "stdout",
          "output_type": "stream",
          "text": [
            "[INFO] EPOCH: 28/300\n",
            "Train loss: 0.660829, Train accuracy: 0.12259604\n",
            "Val loss: 0.668921, Val accuracy: 0.12237007\n",
            "[INFO] total time taken to train the model: 5532.77s\n"
          ]
        },
        {
          "name": "stderr",
          "output_type": "stream",
          "text": [
            "\r 10%|▉         | 29/300 [1:35:30<14:52:44, 197.66s/it]"
          ]
        },
        {
          "name": "stdout",
          "output_type": "stream",
          "text": [
            "[INFO] EPOCH: 29/300\n",
            "Train loss: 0.647637, Train accuracy: 0.12136678\n",
            "Val loss: 0.720397, Val accuracy: 0.08694124\n",
            "[INFO] total time taken to train the model: 5730.37s\n"
          ]
        },
        {
          "name": "stderr",
          "output_type": "stream",
          "text": [
            "\r 10%|█         | 30/300 [1:38:47<14:48:59, 197.56s/it]"
          ]
        },
        {
          "name": "stdout",
          "output_type": "stream",
          "text": [
            "[INFO] EPOCH: 30/300\n",
            "Train loss: 0.649921, Train accuracy: 0.12206929\n",
            "Val loss: 0.700909, Val accuracy: 0.09966857\n",
            "[INFO] total time taken to train the model: 5927.69s\n"
          ]
        },
        {
          "name": "stderr",
          "output_type": "stream",
          "text": [
            "\r 10%|█         | 31/300 [1:42:05<14:45:47, 197.57s/it]"
          ]
        },
        {
          "name": "stdout",
          "output_type": "stream",
          "text": [
            "[INFO] EPOCH: 31/300\n",
            "Train loss: 0.650932, Train accuracy: 0.12188663\n",
            "Val loss: 0.729373, Val accuracy: 0.08160064\n",
            "[INFO] total time taken to train the model: 6125.31s\n"
          ]
        },
        {
          "name": "stderr",
          "output_type": "stream",
          "text": [
            "\r 11%|█         | 32/300 [1:45:23<14:42:51, 197.66s/it]"
          ]
        },
        {
          "name": "stdout",
          "output_type": "stream",
          "text": [
            "[INFO] EPOCH: 32/300\n",
            "Train loss: 0.651899, Train accuracy: 0.12207192\n",
            "Val loss: 0.690681, Val accuracy: 0.11021184\n",
            "[INFO] total time taken to train the model: 6323.16s\n"
          ]
        },
        {
          "name": "stderr",
          "output_type": "stream",
          "text": [
            "\r 11%|█         | 33/300 [1:48:40<14:39:17, 197.59s/it]"
          ]
        },
        {
          "name": "stdout",
          "output_type": "stream",
          "text": [
            "[INFO] EPOCH: 33/300\n",
            "Train loss: 0.651922, Train accuracy: 0.12181903\n",
            "Val loss: 0.725282, Val accuracy: 0.08488224\n",
            "[INFO] total time taken to train the model: 6520.61s\n"
          ]
        },
        {
          "name": "stderr",
          "output_type": "stream",
          "text": [
            "\r 11%|█▏        | 34/300 [1:51:57<14:35:40, 197.52s/it]"
          ]
        },
        {
          "name": "stdout",
          "output_type": "stream",
          "text": [
            "[INFO] EPOCH: 34/300\n",
            "Train loss: 0.649537, Train accuracy: 0.12233181\n",
            "Val loss: 0.706816, Val accuracy: 0.09264132\n",
            "[INFO] total time taken to train the model: 6717.95s\n"
          ]
        },
        {
          "name": "stderr",
          "output_type": "stream",
          "text": [
            "\r 12%|█▏        | 35/300 [1:55:15<14:32:12, 197.48s/it]"
          ]
        },
        {
          "name": "stdout",
          "output_type": "stream",
          "text": [
            "[INFO] EPOCH: 35/300\n",
            "Train loss: 0.650492, Train accuracy: 0.12111203\n",
            "Val loss: 0.689087, Val accuracy: 0.11167409\n",
            "[INFO] total time taken to train the model: 6915.35s\n"
          ]
        },
        {
          "name": "stderr",
          "output_type": "stream",
          "text": [
            "\r 12%|█▏        | 36/300 [1:58:32<14:28:52, 197.47s/it]"
          ]
        },
        {
          "name": "stdout",
          "output_type": "stream",
          "text": [
            "[INFO] EPOCH: 36/300\n",
            "Train loss: 0.651002, Train accuracy: 0.12115104\n",
            "Val loss: 0.720818, Val accuracy: 0.08851733\n",
            "[INFO] total time taken to train the model: 7112.80s\n"
          ]
        },
        {
          "name": "stderr",
          "output_type": "stream",
          "text": [
            "\r 12%|█▏        | 37/300 [2:01:50<14:25:36, 197.48s/it]"
          ]
        },
        {
          "name": "stdout",
          "output_type": "stream",
          "text": [
            "[INFO] EPOCH: 37/300\n",
            "Train loss: 0.648758, Train accuracy: 0.12277548\n",
            "Val loss: 0.700232, Val accuracy: 0.10508279\n",
            "[INFO] total time taken to train the model: 7310.29s\n"
          ]
        },
        {
          "name": "stderr",
          "output_type": "stream",
          "text": [
            "\r 13%|█▎        | 38/300 [2:05:07<14:22:18, 197.47s/it]"
          ]
        },
        {
          "name": "stdout",
          "output_type": "stream",
          "text": [
            "[INFO] EPOCH: 38/300\n",
            "Train loss: 0.644928, Train accuracy: 0.12295339\n",
            "Val loss: 0.687517, Val accuracy: 0.11519485\n",
            "[INFO] total time taken to train the model: 7507.76s\n"
          ]
        },
        {
          "name": "stderr",
          "output_type": "stream",
          "text": [
            "\r 13%|█▎        | 39/300 [2:08:25<14:19:16, 197.53s/it]"
          ]
        },
        {
          "name": "stdout",
          "output_type": "stream",
          "text": [
            "[INFO] EPOCH: 39/300\n",
            "Train loss: 0.644015, Train accuracy: 0.12114244\n",
            "Val loss: 0.676059, Val accuracy: 0.12551315\n",
            "[INFO] total time taken to train the model: 7705.43s\n"
          ]
        },
        {
          "name": "stderr",
          "output_type": "stream",
          "text": [
            "\r 13%|█▎        | 40/300 [2:11:42<14:15:43, 197.48s/it]"
          ]
        },
        {
          "name": "stdout",
          "output_type": "stream",
          "text": [
            "[INFO] EPOCH: 40/300\n",
            "Train loss: 0.646458, Train accuracy: 0.12283436\n",
            "Val loss: 0.685416, Val accuracy: 0.11543084\n",
            "[INFO] total time taken to train the model: 7902.77s\n"
          ]
        },
        {
          "name": "stderr",
          "output_type": "stream",
          "text": [
            "\r 14%|█▎        | 41/300 [2:15:00<14:12:37, 197.52s/it]"
          ]
        },
        {
          "name": "stdout",
          "output_type": "stream",
          "text": [
            "[INFO] EPOCH: 41/300\n",
            "Train loss: 0.638154, Train accuracy: 0.12131170\n",
            "Val loss: 0.687467, Val accuracy: 0.11508804\n",
            "[INFO] total time taken to train the model: 8100.39s\n"
          ]
        },
        {
          "name": "stderr",
          "output_type": "stream",
          "text": [
            "\r 14%|█▍        | 42/300 [2:18:17<14:09:22, 197.53s/it]"
          ]
        },
        {
          "name": "stdout",
          "output_type": "stream",
          "text": [
            "[INFO] EPOCH: 42/300\n",
            "Train loss: 0.644092, Train accuracy: 0.12216950\n",
            "Val loss: 0.708322, Val accuracy: 0.10000095\n",
            "[INFO] total time taken to train the model: 8297.95s\n"
          ]
        },
        {
          "name": "stderr",
          "output_type": "stream",
          "text": [
            "\r 14%|█▍        | 43/300 [2:21:35<14:06:09, 197.55s/it]"
          ]
        },
        {
          "name": "stdout",
          "output_type": "stream",
          "text": [
            "[INFO] EPOCH: 43/300\n",
            "Train loss: 0.652102, Train accuracy: 0.12326401\n",
            "Val loss: 0.701670, Val accuracy: 0.10571464\n",
            "[INFO] total time taken to train the model: 8495.54s\n"
          ]
        },
        {
          "name": "stderr",
          "output_type": "stream",
          "text": [
            "\r 15%|█▍        | 44/300 [2:24:52<14:02:31, 197.47s/it]"
          ]
        },
        {
          "name": "stdout",
          "output_type": "stream",
          "text": [
            "[INFO] EPOCH: 44/300\n",
            "Train loss: 0.646605, Train accuracy: 0.12322077\n",
            "Val loss: 0.704455, Val accuracy: 0.10158285\n",
            "[INFO] total time taken to train the model: 8692.82s\n"
          ]
        },
        {
          "name": "stderr",
          "output_type": "stream",
          "text": [
            "\r 15%|█▌        | 45/300 [2:28:10<13:59:08, 197.45s/it]"
          ]
        },
        {
          "name": "stdout",
          "output_type": "stream",
          "text": [
            "[INFO] EPOCH: 45/300\n",
            "Train loss: 0.642553, Train accuracy: 0.12222416\n",
            "Val loss: 0.703665, Val accuracy: 0.11349053\n",
            "[INFO] total time taken to train the model: 8890.21s\n"
          ]
        },
        {
          "name": "stderr",
          "output_type": "stream",
          "text": [
            "\r 15%|█▌        | 46/300 [2:31:27<13:55:48, 197.44s/it]"
          ]
        },
        {
          "name": "stdout",
          "output_type": "stream",
          "text": [
            "[INFO] EPOCH: 46/300\n",
            "Train loss: 0.640712, Train accuracy: 0.12171129\n",
            "Val loss: 0.686242, Val accuracy: 0.11345427\n",
            "[INFO] total time taken to train the model: 9087.62s\n"
          ]
        },
        {
          "name": "stderr",
          "output_type": "stream",
          "text": [
            "\r 16%|█▌        | 47/300 [2:34:45<13:52:39, 197.47s/it]"
          ]
        },
        {
          "name": "stdout",
          "output_type": "stream",
          "text": [
            "[INFO] EPOCH: 47/300\n",
            "Train loss: 0.638585, Train accuracy: 0.12179726\n",
            "Val loss: 0.734553, Val accuracy: 0.07534915\n",
            "[INFO] total time taken to train the model: 9285.17s\n"
          ]
        },
        {
          "name": "stderr",
          "output_type": "stream",
          "text": [
            "\r 16%|█▌        | 48/300 [2:38:02<13:49:27, 197.49s/it]"
          ]
        },
        {
          "name": "stdout",
          "output_type": "stream",
          "text": [
            "[INFO] EPOCH: 48/300\n",
            "Train loss: 0.639395, Train accuracy: 0.12257735\n",
            "Val loss: 0.692150, Val accuracy: 0.10444810\n",
            "[INFO] total time taken to train the model: 9482.71s\n"
          ]
        },
        {
          "name": "stderr",
          "output_type": "stream",
          "text": [
            "\r 16%|█▋        | 49/300 [2:41:20<13:46:10, 197.49s/it]"
          ]
        },
        {
          "name": "stdout",
          "output_type": "stream",
          "text": [
            "[INFO] EPOCH: 49/300\n",
            "Train loss: 0.631689, Train accuracy: 0.12273973\n",
            "Val loss: 0.713506, Val accuracy: 0.09058655\n",
            "[INFO] total time taken to train the model: 9680.20s\n"
          ]
        },
        {
          "name": "stderr",
          "output_type": "stream",
          "text": [
            "\r 17%|█▋        | 50/300 [2:44:37<13:42:38, 197.43s/it]"
          ]
        },
        {
          "name": "stdout",
          "output_type": "stream",
          "text": [
            "[INFO] EPOCH: 50/300\n",
            "Train loss: 0.651380, Train accuracy: 0.12365163\n",
            "Val loss: 0.763050, Val accuracy: 0.05277690\n",
            "[INFO] total time taken to train the model: 9877.50s\n"
          ]
        },
        {
          "name": "stderr",
          "output_type": "stream",
          "text": [
            "WARNING:root:Only 108 Image will be uploaded.\n"
          ]
        },
        {
          "name": "stdout",
          "output_type": "stream",
          "text": [
            "[INFO] EPOCH: 51/300\n",
            "Train loss: 0.636471, Train accuracy: 0.12230330\n",
            "Val loss: 0.717960, Val accuracy: 0.08458696\n",
            "[INFO] total time taken to train the model: 10075.91s\n"
          ]
        },
        {
          "name": "stderr",
          "output_type": "stream",
          "text": [
            " 17%|█▋        | 52/300 [2:51:14<13:37:41, 197.83s/it]"
          ]
        },
        {
          "name": "stdout",
          "output_type": "stream",
          "text": [
            "[INFO] EPOCH: 52/300\n",
            "Train loss: 0.643936, Train accuracy: 0.12201681\n",
            "Val loss: 0.713146, Val accuracy: 0.08814525\n",
            "[INFO] total time taken to train the model: 10274.17s\n"
          ]
        },
        {
          "name": "stderr",
          "output_type": "stream",
          "text": [
            "\r 18%|█▊        | 53/300 [2:54:32<13:34:25, 197.84s/it]"
          ]
        },
        {
          "name": "stdout",
          "output_type": "stream",
          "text": [
            "[INFO] EPOCH: 53/300\n",
            "Train loss: 0.644761, Train accuracy: 0.12251948\n",
            "Val loss: 0.703833, Val accuracy: 0.09809162\n",
            "[INFO] total time taken to train the model: 10472.03s\n"
          ]
        },
        {
          "name": "stderr",
          "output_type": "stream",
          "text": [
            "\r 18%|█▊        | 54/300 [2:57:49<13:30:39, 197.72s/it]"
          ]
        },
        {
          "name": "stdout",
          "output_type": "stream",
          "text": [
            "[INFO] EPOCH: 54/300\n",
            "Train loss: 0.634450, Train accuracy: 0.12330674\n",
            "Val loss: 0.698802, Val accuracy: 0.10234003\n",
            "[INFO] total time taken to train the model: 10669.48s\n"
          ]
        },
        {
          "name": "stderr",
          "output_type": "stream",
          "text": [
            "\r 18%|█▊        | 55/300 [3:01:05<13:25:37, 197.30s/it]"
          ]
        },
        {
          "name": "stdout",
          "output_type": "stream",
          "text": [
            "[INFO] EPOCH: 55/300\n",
            "Train loss: 0.637615, Train accuracy: 0.12221242\n",
            "Val loss: 0.693956, Val accuracy: 0.10831436\n",
            "[INFO] total time taken to train the model: 10865.79s\n"
          ]
        },
        {
          "name": "stderr",
          "output_type": "stream",
          "text": [
            "\r 19%|█▊        | 56/300 [3:04:21<13:20:26, 196.83s/it]"
          ]
        },
        {
          "name": "stdout",
          "output_type": "stream",
          "text": [
            "[INFO] EPOCH: 56/300\n",
            "Train loss: 0.638412, Train accuracy: 0.12309165\n",
            "Val loss: 0.700939, Val accuracy: 0.10147863\n",
            "[INFO] total time taken to train the model: 11061.53s\n"
          ]
        },
        {
          "name": "stderr",
          "output_type": "stream",
          "text": [
            "\r 19%|█▉        | 57/300 [3:07:39<13:18:04, 197.05s/it]"
          ]
        },
        {
          "name": "stdout",
          "output_type": "stream",
          "text": [
            "[INFO] EPOCH: 57/300\n",
            "Train loss: 0.645757, Train accuracy: 0.12310302\n",
            "Val loss: 0.714795, Val accuracy: 0.09227632\n",
            "[INFO] total time taken to train the model: 11259.11s\n"
          ]
        },
        {
          "name": "stderr",
          "output_type": "stream",
          "text": [
            "\r 19%|█▉        | 58/300 [3:10:56<13:15:19, 197.19s/it]"
          ]
        },
        {
          "name": "stdout",
          "output_type": "stream",
          "text": [
            "[INFO] EPOCH: 58/300\n",
            "Train loss: 0.634116, Train accuracy: 0.12278787\n",
            "Val loss: 0.685189, Val accuracy: 0.11464660\n",
            "[INFO] total time taken to train the model: 11456.61s\n"
          ]
        },
        {
          "name": "stderr",
          "output_type": "stream",
          "text": [
            "\r 20%|█▉        | 59/300 [3:14:14<13:12:35, 197.33s/it]"
          ]
        },
        {
          "name": "stdout",
          "output_type": "stream",
          "text": [
            "[INFO] EPOCH: 59/300\n",
            "Train loss: 0.640091, Train accuracy: 0.12431011\n",
            "Val loss: 0.704711, Val accuracy: 0.09673525\n",
            "[INFO] total time taken to train the model: 11654.26s\n"
          ]
        },
        {
          "name": "stderr",
          "output_type": "stream",
          "text": [
            "\r 20%|██        | 60/300 [3:17:31<13:09:20, 197.34s/it]"
          ]
        },
        {
          "name": "stdout",
          "output_type": "stream",
          "text": [
            "[INFO] EPOCH: 60/300\n",
            "Train loss: 0.631518, Train accuracy: 0.12243700\n",
            "Val loss: 0.708851, Val accuracy: 0.09342023\n",
            "[INFO] total time taken to train the model: 11851.62s\n"
          ]
        },
        {
          "name": "stderr",
          "output_type": "stream",
          "text": [
            "\r 20%|██        | 61/300 [3:20:49<13:06:14, 197.38s/it]"
          ]
        },
        {
          "name": "stdout",
          "output_type": "stream",
          "text": [
            "[INFO] EPOCH: 61/300\n",
            "Train loss: 0.630677, Train accuracy: 0.12269812\n",
            "Val loss: 0.683185, Val accuracy: 0.11313977\n",
            "[INFO] total time taken to train the model: 12049.11s\n"
          ]
        },
        {
          "name": "stderr",
          "output_type": "stream",
          "text": [
            "\r 21%|██        | 62/300 [3:24:06<13:03:19, 197.48s/it]"
          ]
        },
        {
          "name": "stdout",
          "output_type": "stream",
          "text": [
            "[INFO] EPOCH: 62/300\n",
            "Train loss: 0.634894, Train accuracy: 0.12297197\n",
            "Val loss: 0.701467, Val accuracy: 0.10166714\n",
            "[INFO] total time taken to train the model: 12246.81s\n"
          ]
        },
        {
          "name": "stderr",
          "output_type": "stream",
          "text": [
            "\r 21%|██        | 63/300 [3:27:24<13:00:31, 197.60s/it]"
          ]
        },
        {
          "name": "stdout",
          "output_type": "stream",
          "text": [
            "[INFO] EPOCH: 63/300\n",
            "Train loss: 0.631347, Train accuracy: 0.12202638\n",
            "Val loss: 0.666249, Val accuracy: 0.13102999\n",
            "[INFO] total time taken to train the model: 12444.69s\n"
          ]
        },
        {
          "name": "stderr",
          "output_type": "stream",
          "text": [
            "\r 21%|██▏       | 64/300 [3:30:42<12:56:59, 197.54s/it]"
          ]
        },
        {
          "name": "stdout",
          "output_type": "stream",
          "text": [
            "[INFO] EPOCH: 64/300\n",
            "Train loss: 0.635904, Train accuracy: 0.12303248\n",
            "Val loss: 0.752872, Val accuracy: 0.06008081\n",
            "[INFO] total time taken to train the model: 12642.10s\n"
          ]
        },
        {
          "name": "stderr",
          "output_type": "stream",
          "text": [
            "\r 22%|██▏       | 65/300 [3:33:59<12:53:52, 197.59s/it]"
          ]
        },
        {
          "name": "stdout",
          "output_type": "stream",
          "text": [
            "[INFO] EPOCH: 65/300\n",
            "Train loss: 0.637566, Train accuracy: 0.12259919\n",
            "Val loss: 0.732953, Val accuracy: 0.07892594\n",
            "[INFO] total time taken to train the model: 12839.79s\n"
          ]
        },
        {
          "name": "stderr",
          "output_type": "stream",
          "text": [
            "\r 22%|██▏       | 66/300 [3:37:17<12:50:24, 197.54s/it]"
          ]
        },
        {
          "name": "stdout",
          "output_type": "stream",
          "text": [
            "[INFO] EPOCH: 66/300\n",
            "Train loss: 0.638638, Train accuracy: 0.12336661\n",
            "Val loss: 0.707621, Val accuracy: 0.09916265\n",
            "[INFO] total time taken to train the model: 13037.22s\n"
          ]
        },
        {
          "name": "stderr",
          "output_type": "stream",
          "text": [
            "\r 22%|██▏       | 67/300 [3:40:34<12:47:12, 197.56s/it]"
          ]
        },
        {
          "name": "stdout",
          "output_type": "stream",
          "text": [
            "[INFO] EPOCH: 67/300\n",
            "Train loss: 0.631096, Train accuracy: 0.12234479\n",
            "Val loss: 0.714158, Val accuracy: 0.08612660\n",
            "[INFO] total time taken to train the model: 13234.84s\n"
          ]
        },
        {
          "name": "stderr",
          "output_type": "stream",
          "text": [
            "\r 23%|██▎       | 68/300 [3:43:52<12:43:56, 197.57s/it]"
          ]
        },
        {
          "name": "stdout",
          "output_type": "stream",
          "text": [
            "[INFO] EPOCH: 68/300\n",
            "Train loss: 0.631755, Train accuracy: 0.12326750\n",
            "Val loss: 0.705380, Val accuracy: 0.09466733\n",
            "[INFO] total time taken to train the model: 13432.42s\n"
          ]
        },
        {
          "name": "stderr",
          "output_type": "stream",
          "text": [
            "\r 23%|██▎       | 69/300 [3:47:09<12:40:32, 197.54s/it]"
          ]
        },
        {
          "name": "stdout",
          "output_type": "stream",
          "text": [
            "[INFO] EPOCH: 69/300\n",
            "Train loss: 0.632981, Train accuracy: 0.12271683\n",
            "Val loss: 0.681026, Val accuracy: 0.11877925\n",
            "[INFO] total time taken to train the model: 13629.91s\n"
          ]
        },
        {
          "name": "stderr",
          "output_type": "stream",
          "text": [
            "\r 23%|██▎       | 70/300 [3:50:27<12:37:11, 197.53s/it]"
          ]
        },
        {
          "name": "stdout",
          "output_type": "stream",
          "text": [
            "[INFO] EPOCH: 70/300\n",
            "Train loss: 0.638402, Train accuracy: 0.12356056\n",
            "Val loss: 0.709130, Val accuracy: 0.09682508\n",
            "[INFO] total time taken to train the model: 13827.40s\n"
          ]
        },
        {
          "name": "stderr",
          "output_type": "stream",
          "text": [
            "\r 24%|██▎       | 71/300 [3:53:44<12:33:54, 197.53s/it]"
          ]
        },
        {
          "name": "stdout",
          "output_type": "stream",
          "text": [
            "[INFO] EPOCH: 71/300\n",
            "Train loss: 0.631047, Train accuracy: 0.12289819\n",
            "Val loss: 0.697745, Val accuracy: 0.09734051\n",
            "[INFO] total time taken to train the model: 14024.93s\n"
          ]
        },
        {
          "name": "stderr",
          "output_type": "stream",
          "text": [
            "\r 24%|██▍       | 72/300 [3:57:02<12:30:07, 197.40s/it]"
          ]
        },
        {
          "name": "stdout",
          "output_type": "stream",
          "text": [
            "[INFO] EPOCH: 72/300\n",
            "Train loss: 0.631418, Train accuracy: 0.12385396\n",
            "Val loss: 0.681843, Val accuracy: 0.11899773\n",
            "[INFO] total time taken to train the model: 14222.04s\n"
          ]
        },
        {
          "name": "stderr",
          "output_type": "stream",
          "text": [
            "\r 24%|██▍       | 73/300 [4:00:19<12:26:58, 197.44s/it]"
          ]
        },
        {
          "name": "stdout",
          "output_type": "stream",
          "text": [
            "[INFO] EPOCH: 73/300\n",
            "Train loss: 0.634176, Train accuracy: 0.12257506\n",
            "Val loss: 0.677981, Val accuracy: 0.11731270\n",
            "[INFO] total time taken to train the model: 14419.55s\n"
          ]
        },
        {
          "name": "stderr",
          "output_type": "stream",
          "text": [
            "\r 25%|██▍       | 74/300 [4:03:37<12:24:01, 197.53s/it]"
          ]
        },
        {
          "name": "stdout",
          "output_type": "stream",
          "text": [
            "[INFO] EPOCH: 74/300\n",
            "Train loss: 0.630707, Train accuracy: 0.12443349\n",
            "Val loss: 0.711914, Val accuracy: 0.08885239\n",
            "[INFO] total time taken to train the model: 14617.29s\n"
          ]
        },
        {
          "name": "stderr",
          "output_type": "stream",
          "text": [
            "\r 25%|██▌       | 75/300 [4:06:54<12:20:53, 197.57s/it]"
          ]
        },
        {
          "name": "stdout",
          "output_type": "stream",
          "text": [
            "[INFO] EPOCH: 75/300\n",
            "Train loss: 0.638642, Train accuracy: 0.12310512\n",
            "Val loss: 0.694649, Val accuracy: 0.10384862\n",
            "[INFO] total time taken to train the model: 14814.97s\n"
          ]
        },
        {
          "name": "stderr",
          "output_type": "stream",
          "text": [
            "\r 25%|██▌       | 76/300 [4:10:12<12:17:29, 197.54s/it]"
          ]
        },
        {
          "name": "stdout",
          "output_type": "stream",
          "text": [
            "[INFO] EPOCH: 76/300\n",
            "Train loss: 0.629849, Train accuracy: 0.12369908\n",
            "Val loss: 0.682136, Val accuracy: 0.11294871\n",
            "[INFO] total time taken to train the model: 15012.45s\n"
          ]
        },
        {
          "name": "stderr",
          "output_type": "stream",
          "text": [
            "\r 26%|██▌       | 77/300 [4:13:29<12:14:06, 197.52s/it]"
          ]
        },
        {
          "name": "stdout",
          "output_type": "stream",
          "text": [
            "[INFO] EPOCH: 77/300\n",
            "Train loss: 0.631151, Train accuracy: 0.12259798\n",
            "Val loss: 0.704502, Val accuracy: 0.09979509\n",
            "[INFO] total time taken to train the model: 15209.91s\n"
          ]
        },
        {
          "name": "stderr",
          "output_type": "stream",
          "text": [
            "\r 26%|██▌       | 78/300 [4:16:47<12:10:54, 197.54s/it]"
          ]
        },
        {
          "name": "stdout",
          "output_type": "stream",
          "text": [
            "[INFO] EPOCH: 78/300\n",
            "Train loss: 0.626545, Train accuracy: 0.12328733\n",
            "Val loss: 0.724839, Val accuracy: 0.08041302\n",
            "[INFO] total time taken to train the model: 15407.51s\n"
          ]
        },
        {
          "name": "stderr",
          "output_type": "stream",
          "text": [
            "\r 26%|██▋       | 79/300 [4:20:04<12:07:31, 197.52s/it]"
          ]
        },
        {
          "name": "stdout",
          "output_type": "stream",
          "text": [
            "[INFO] EPOCH: 79/300\n",
            "Train loss: 0.626009, Train accuracy: 0.12347076\n",
            "Val loss: 0.679456, Val accuracy: 0.12101910\n",
            "[INFO] total time taken to train the model: 15604.97s\n"
          ]
        },
        {
          "name": "stderr",
          "output_type": "stream",
          "text": [
            "\r 27%|██▋       | 80/300 [4:23:22<12:04:19, 197.54s/it]"
          ]
        },
        {
          "name": "stdout",
          "output_type": "stream",
          "text": [
            "[INFO] EPOCH: 80/300\n",
            "Train loss: 0.633336, Train accuracy: 0.12458133\n",
            "Val loss: 0.793963, Val accuracy: 0.02845089\n",
            "[INFO] total time taken to train the model: 15802.58s\n"
          ]
        },
        {
          "name": "stderr",
          "output_type": "stream",
          "text": [
            "\r 27%|██▋       | 81/300 [4:26:40<12:00:58, 197.53s/it]"
          ]
        },
        {
          "name": "stdout",
          "output_type": "stream",
          "text": [
            "[INFO] EPOCH: 81/300\n",
            "Train loss: 0.633673, Train accuracy: 0.12339376\n",
            "Val loss: 0.683733, Val accuracy: 0.10756784\n",
            "[INFO] total time taken to train the model: 16000.07s\n"
          ]
        },
        {
          "name": "stderr",
          "output_type": "stream",
          "text": [
            "\r 27%|██▋       | 82/300 [4:29:57<11:57:47, 197.56s/it]"
          ]
        },
        {
          "name": "stdout",
          "output_type": "stream",
          "text": [
            "[INFO] EPOCH: 82/300\n",
            "Train loss: 0.630308, Train accuracy: 0.12401274\n",
            "Val loss: 0.702589, Val accuracy: 0.10772170\n",
            "[INFO] total time taken to train the model: 16197.69s\n"
          ]
        },
        {
          "name": "stderr",
          "output_type": "stream",
          "text": [
            "\r 28%|██▊       | 83/300 [4:33:15<11:54:18, 197.50s/it]"
          ]
        },
        {
          "name": "stdout",
          "output_type": "stream",
          "text": [
            "[INFO] EPOCH: 83/300\n",
            "Train loss: 0.623785, Train accuracy: 0.12402430\n",
            "Val loss: 0.685399, Val accuracy: 0.11577091\n",
            "[INFO] total time taken to train the model: 16395.07s\n"
          ]
        },
        {
          "name": "stderr",
          "output_type": "stream",
          "text": [
            "\r 28%|██▊       | 84/300 [4:36:32<11:50:52, 197.46s/it]"
          ]
        },
        {
          "name": "stdout",
          "output_type": "stream",
          "text": [
            "[INFO] EPOCH: 84/300\n",
            "Train loss: 0.625855, Train accuracy: 0.12436169\n",
            "Val loss: 0.704199, Val accuracy: 0.09442454\n",
            "[INFO] total time taken to train the model: 16592.44s\n"
          ]
        },
        {
          "name": "stderr",
          "output_type": "stream",
          "text": [
            "\r 28%|██▊       | 85/300 [4:39:50<11:47:48, 197.53s/it]"
          ]
        },
        {
          "name": "stdout",
          "output_type": "stream",
          "text": [
            "[INFO] EPOCH: 85/300\n",
            "Train loss: 0.625154, Train accuracy: 0.12400072\n",
            "Val loss: 0.702740, Val accuracy: 0.09326230\n",
            "[INFO] total time taken to train the model: 16790.11s\n"
          ]
        },
        {
          "name": "stderr",
          "output_type": "stream",
          "text": [
            "\r 29%|██▊       | 86/300 [4:43:07<11:44:27, 197.51s/it]"
          ]
        },
        {
          "name": "stdout",
          "output_type": "stream",
          "text": [
            "[INFO] EPOCH: 86/300\n",
            "Train loss: 0.620278, Train accuracy: 0.12526873\n",
            "Val loss: 0.710791, Val accuracy: 0.08758454\n",
            "[INFO] total time taken to train the model: 16987.59s\n"
          ]
        },
        {
          "name": "stderr",
          "output_type": "stream",
          "text": [
            "\r 29%|██▉       | 87/300 [4:46:25<11:41:21, 197.57s/it]"
          ]
        },
        {
          "name": "stdout",
          "output_type": "stream",
          "text": [
            "[INFO] EPOCH: 87/300\n",
            "Train loss: 0.626174, Train accuracy: 0.12519175\n",
            "Val loss: 0.714953, Val accuracy: 0.08853739\n",
            "[INFO] total time taken to train the model: 17185.28s\n"
          ]
        },
        {
          "name": "stderr",
          "output_type": "stream",
          "text": [
            "\r 29%|██▉       | 88/300 [4:49:42<11:38:00, 197.55s/it]"
          ]
        },
        {
          "name": "stdout",
          "output_type": "stream",
          "text": [
            "[INFO] EPOCH: 88/300\n",
            "Train loss: 0.626706, Train accuracy: 0.12570963\n",
            "Val loss: 0.717883, Val accuracy: 0.08223453\n",
            "[INFO] total time taken to train the model: 17382.79s\n"
          ]
        },
        {
          "name": "stderr",
          "output_type": "stream",
          "text": [
            "\r 30%|██▉       | 89/300 [4:53:00<11:34:51, 197.59s/it]"
          ]
        },
        {
          "name": "stdout",
          "output_type": "stream",
          "text": [
            "[INFO] EPOCH: 89/300\n",
            "Train loss: 0.627016, Train accuracy: 0.12539057\n",
            "Val loss: 0.759795, Val accuracy: 0.05198845\n",
            "[INFO] total time taken to train the model: 17580.48s\n"
          ]
        },
        {
          "name": "stderr",
          "output_type": "stream",
          "text": [
            "\r 30%|███       | 90/300 [4:56:18<11:31:30, 197.57s/it]"
          ]
        },
        {
          "name": "stdout",
          "output_type": "stream",
          "text": [
            "[INFO] EPOCH: 90/300\n",
            "Train loss: 0.625390, Train accuracy: 0.12483288\n",
            "Val loss: 0.697362, Val accuracy: 0.09514332\n",
            "[INFO] total time taken to train the model: 17778.01s\n"
          ]
        },
        {
          "name": "stderr",
          "output_type": "stream",
          "text": [
            "\r 30%|███       | 91/300 [4:59:35<11:28:14, 197.58s/it]"
          ]
        },
        {
          "name": "stdout",
          "output_type": "stream",
          "text": [
            "[INFO] EPOCH: 91/300\n",
            "Train loss: 0.626885, Train accuracy: 0.12580850\n",
            "Val loss: 0.728105, Val accuracy: 0.07539018\n",
            "[INFO] total time taken to train the model: 17975.61s\n"
          ]
        },
        {
          "name": "stderr",
          "output_type": "stream",
          "text": [
            "\r 31%|███       | 92/300 [5:02:53<11:25:01, 197.60s/it]"
          ]
        },
        {
          "name": "stdout",
          "output_type": "stream",
          "text": [
            "[INFO] EPOCH: 92/300\n",
            "Train loss: 0.629083, Train accuracy: 0.12512493\n",
            "Val loss: 0.701301, Val accuracy: 0.09901352\n",
            "[INFO] total time taken to train the model: 18173.26s\n"
          ]
        },
        {
          "name": "stderr",
          "output_type": "stream",
          "text": [
            "\r 31%|███       | 93/300 [5:06:10<11:21:35, 197.56s/it]"
          ]
        },
        {
          "name": "stdout",
          "output_type": "stream",
          "text": [
            "[INFO] EPOCH: 93/300\n",
            "Train loss: 0.624439, Train accuracy: 0.12582418\n",
            "Val loss: 0.725147, Val accuracy: 0.07048626\n",
            "[INFO] total time taken to train the model: 18370.73s\n"
          ]
        },
        {
          "name": "stderr",
          "output_type": "stream",
          "text": [
            "\r 31%|███▏      | 94/300 [5:09:28<11:18:16, 197.56s/it]"
          ]
        },
        {
          "name": "stdout",
          "output_type": "stream",
          "text": [
            "[INFO] EPOCH: 94/300\n",
            "Train loss: 0.622380, Train accuracy: 0.12559432\n",
            "Val loss: 0.702603, Val accuracy: 0.09197884\n",
            "[INFO] total time taken to train the model: 18568.28s\n"
          ]
        },
        {
          "name": "stderr",
          "output_type": "stream",
          "text": [
            "\r 32%|███▏      | 95/300 [5:12:45<11:15:01, 197.57s/it]"
          ]
        },
        {
          "name": "stdout",
          "output_type": "stream",
          "text": [
            "[INFO] EPOCH: 95/300\n",
            "Train loss: 0.627664, Train accuracy: 0.12570042\n",
            "Val loss: 0.734181, Val accuracy: 0.06881317\n",
            "[INFO] total time taken to train the model: 18765.87s\n"
          ]
        },
        {
          "name": "stderr",
          "output_type": "stream",
          "text": [
            "\r 32%|███▏      | 96/300 [5:16:03<11:11:17, 197.44s/it]"
          ]
        },
        {
          "name": "stdout",
          "output_type": "stream",
          "text": [
            "[INFO] EPOCH: 96/300\n",
            "Train loss: 0.624707, Train accuracy: 0.12541541\n",
            "Val loss: 0.751431, Val accuracy: 0.05783796\n",
            "[INFO] total time taken to train the model: 18963.00s\n"
          ]
        },
        {
          "name": "stderr",
          "output_type": "stream",
          "text": [
            "\r 32%|███▏      | 97/300 [5:19:20<11:08:05, 197.46s/it]"
          ]
        },
        {
          "name": "stdout",
          "output_type": "stream",
          "text": [
            "[INFO] EPOCH: 97/300\n",
            "Train loss: 0.625760, Train accuracy: 0.12566504\n",
            "Val loss: 0.779599, Val accuracy: 0.03631953\n",
            "[INFO] total time taken to train the model: 19160.53s\n"
          ]
        },
        {
          "name": "stderr",
          "output_type": "stream",
          "text": [
            "\r 33%|███▎      | 98/300 [5:22:37<11:04:46, 197.46s/it]"
          ]
        },
        {
          "name": "stdout",
          "output_type": "stream",
          "text": [
            "[INFO] EPOCH: 98/300\n",
            "Train loss: 0.622956, Train accuracy: 0.12547384\n",
            "Val loss: 0.753571, Val accuracy: 0.05263155\n",
            "[INFO] total time taken to train the model: 19357.97s\n"
          ]
        },
        {
          "name": "stderr",
          "output_type": "stream",
          "text": [
            "\r 33%|███▎      | 99/300 [5:25:55<11:01:29, 197.46s/it]"
          ]
        },
        {
          "name": "stdout",
          "output_type": "stream",
          "text": [
            "[INFO] EPOCH: 99/300\n",
            "Train loss: 0.625208, Train accuracy: 0.12577218\n",
            "Val loss: 0.745735, Val accuracy: 0.06296845\n",
            "[INFO] total time taken to train the model: 19555.44s\n"
          ]
        },
        {
          "name": "stderr",
          "output_type": "stream",
          "text": [
            "\r 33%|███▎      | 100/300 [5:29:13<10:58:29, 197.55s/it]"
          ]
        },
        {
          "name": "stdout",
          "output_type": "stream",
          "text": [
            "[INFO] EPOCH: 100/300\n",
            "Train loss: 0.624639, Train accuracy: 0.12565203\n",
            "Val loss: 0.765936, Val accuracy: 0.04195942\n",
            "[INFO] total time taken to train the model: 19753.19s\n"
          ]
        },
        {
          "name": "stderr",
          "output_type": "stream",
          "text": [
            "WARNING:root:Only 108 Image will be uploaded.\n"
          ]
        },
        {
          "name": "stdout",
          "output_type": "stream",
          "text": [
            "[INFO] EPOCH: 101/300\n",
            "Train loss: 0.627715, Train accuracy: 0.12688728\n",
            "Val loss: 0.756858, Val accuracy: 0.05049324\n",
            "[INFO] total time taken to train the model: 19951.77s\n"
          ]
        },
        {
          "name": "stderr",
          "output_type": "stream",
          "text": [
            " 34%|███▍      | 102/300 [5:35:50<10:53:12, 197.94s/it]"
          ]
        },
        {
          "name": "stdout",
          "output_type": "stream",
          "text": [
            "[INFO] EPOCH: 102/300\n",
            "Train loss: 0.628747, Train accuracy: 0.12705000\n",
            "Val loss: 0.729235, Val accuracy: 0.06945172\n",
            "[INFO] total time taken to train the model: 20150.10s\n"
          ]
        },
        {
          "name": "stderr",
          "output_type": "stream",
          "text": [
            "\r 34%|███▍      | 103/300 [5:39:07<10:49:38, 197.86s/it]"
          ]
        },
        {
          "name": "stdout",
          "output_type": "stream",
          "text": [
            "[INFO] EPOCH: 103/300\n",
            "Train loss: 0.619696, Train accuracy: 0.12768294\n",
            "Val loss: 0.706145, Val accuracy: 0.09108579\n",
            "[INFO] total time taken to train the model: 20347.77s\n"
          ]
        },
        {
          "name": "stderr",
          "output_type": "stream",
          "text": [
            "\r 35%|███▍      | 104/300 [5:42:25<10:45:49, 197.70s/it]"
          ]
        },
        {
          "name": "stdout",
          "output_type": "stream",
          "text": [
            "[INFO] EPOCH: 104/300\n",
            "Train loss: 0.624829, Train accuracy: 0.12734698\n",
            "Val loss: 0.708937, Val accuracy: 0.08846977\n",
            "[INFO] total time taken to train the model: 20545.10s\n"
          ]
        },
        {
          "name": "stderr",
          "output_type": "stream",
          "text": [
            "\r 35%|███▌      | 105/300 [5:45:42<10:42:29, 197.69s/it]"
          ]
        },
        {
          "name": "stdout",
          "output_type": "stream",
          "text": [
            "[INFO] EPOCH: 105/300\n",
            "Train loss: 0.621478, Train accuracy: 0.12808883\n",
            "Val loss: 0.689326, Val accuracy: 0.10636362\n",
            "[INFO] total time taken to train the model: 20742.76s\n"
          ]
        },
        {
          "name": "stderr",
          "output_type": "stream",
          "text": [
            "\r 35%|███▌      | 106/300 [5:49:00<10:39:05, 197.66s/it]"
          ]
        },
        {
          "name": "stdout",
          "output_type": "stream",
          "text": [
            "[INFO] EPOCH: 106/300\n",
            "Train loss: 0.617411, Train accuracy: 0.12930184\n",
            "Val loss: 0.709203, Val accuracy: 0.09297348\n",
            "[INFO] total time taken to train the model: 20940.35s\n"
          ]
        },
        {
          "name": "stderr",
          "output_type": "stream",
          "text": [
            "\r 36%|███▌      | 107/300 [5:52:17<10:35:37, 197.61s/it]"
          ]
        },
        {
          "name": "stdout",
          "output_type": "stream",
          "text": [
            "[INFO] EPOCH: 107/300\n",
            "Train loss: 0.626225, Train accuracy: 0.12821147\n",
            "Val loss: 0.766824, Val accuracy: 0.04976026\n",
            "[INFO] total time taken to train the model: 21137.83s\n"
          ]
        },
        {
          "name": "stderr",
          "output_type": "stream",
          "text": [
            "\r 36%|███▌      | 108/300 [5:55:35<10:32:24, 197.63s/it]"
          ]
        },
        {
          "name": "stdout",
          "output_type": "stream",
          "text": [
            "[INFO] EPOCH: 108/300\n",
            "Train loss: 0.625378, Train accuracy: 0.12866905\n",
            "Val loss: 0.741790, Val accuracy: 0.06686963\n",
            "[INFO] total time taken to train the model: 21335.51s\n"
          ]
        },
        {
          "name": "stderr",
          "output_type": "stream",
          "text": [
            "\r 36%|███▋      | 109/300 [5:58:52<10:28:55, 197.57s/it]"
          ]
        },
        {
          "name": "stdout",
          "output_type": "stream",
          "text": [
            "[INFO] EPOCH: 109/300\n",
            "Train loss: 0.622942, Train accuracy: 0.12959555\n",
            "Val loss: 0.741753, Val accuracy: 0.06595573\n",
            "[INFO] total time taken to train the model: 21532.93s\n"
          ]
        }
      ],
      "source": [
        "import math\n",
        "import os\n",
        "import time\n",
        "\n",
        "import albumentations as A\n",
        "import matplotlib.pyplot as plt\n",
        "import torch\n",
        "from albumentations.pytorch import ToTensorV2\n",
        "from torch import optim\n",
        "from torch.nn import CrossEntropyLoss, BCELoss\n",
        "from torch.utils.data import DataLoader\n",
        "from torchvision.models import resnet50, resnet18\n",
        "from tqdm import tqdm\n",
        "\n",
        "from logger import WeightandBiaises\n",
        "from losses import GIoULoss, DIoULoss\n",
        "from metrics import batch_iou\n",
        "from model.object_detector import ObjectDetector\n",
        "from torch_datasets import CustomImageDataset\n",
        "from utils import create_directory\n",
        "\n",
        "\n",
        "DEVICE = \"cuda\" if torch.cuda.is_available() else \"cpu\"\n",
        "PIN_MEMORY = True if DEVICE == \"cuda\" else False\n",
        "# specify ImageNet mean and standard deviation\n",
        "MEAN = [0.485, 0.456, 0.406]\n",
        "STD = [0.229, 0.224, 0.225]\n",
        "# initialize our initial learning rate, number of epochs to train\n",
        "# for, and the batch size\n",
        "INIT_LR = 1e-5\n",
        "NUM_EPOCHS = 300\n",
        "BATCH_SIZE = 8\n",
        "# specify the loss weights\n",
        "LABELS = 1.0\n",
        "BBOX = 0.6\n",
        "PROB = 0.4\n",
        "\n",
        "\n",
        "wb_visu = True\n",
        "\n",
        "def fix_bboxes(bboxes):\n",
        "    for box in bboxes:\n",
        "        if box[0] > box[2]:\n",
        "            box[2] = box[0]\n",
        "        if box[1] > box[3]:\n",
        "            box[3] = box[1]\n",
        "    return bboxes\n",
        "\n",
        "\n",
        "model_name = \"test_wb_proba2\"\n",
        "\n",
        "CLASSES = [\"Circle\"]\n",
        "\n",
        "bbox_format = 'albumentations'\n",
        "train_transform = A.Compose(\n",
        "    [\n",
        "        #A.augmentations.geometric.transforms.Affine (scale=(0.5, 1), translate_percent=(0.15, 0.5), keep_ratio=True, p=0.5),\n",
        "        A.Equalize(mode='cv', by_channels=True, mask=None, p=0.5),\n",
        "        A.HorizontalFlip(p=0.5),\n",
        "        A.VerticalFlip(p=0.5),\n",
        "        A.RandomRotate90(p=0.5),\n",
        "        # A.Rotate(limit=90, p=0.5, border_mode=0, rotate_method=\"ellipse\"),\n",
        "        A.CLAHE(p=0.5),\n",
        "        A.OneOf([\n",
        "            A.ElasticTransform(p=0.5, alpha=120, sigma=120 * 0.05, alpha_affine=120 * 0.03),\n",
        "            A.GridDistortion(p=0.5),\n",
        "        ], p=0.0),\n",
        "        A.Normalize(always_apply=True),\n",
        "        A.augmentations.geometric.resize.Resize(683, 1024, interpolation=1, always_apply=False, p=1),\n",
        "        ToTensorV2()],\n",
        "    bbox_params=A.BboxParams(format=bbox_format, label_fields=['category_ids']),\n",
        ")\n",
        "\n",
        "test_transform = A.Compose([\n",
        "    #A.augmentations.geometric.resize.Resize(683, 1024, interpolation=1, always_apply=False, p=1),\n",
        "    A.Normalize(always_apply=True),\n",
        "    ToTensorV2()],\n",
        "    bbox_params=A.BboxParams(format=bbox_format, label_fields=['category_ids'])\n",
        ")\n",
        "\n",
        "train_dataset = CustomImageDataset(\n",
        "    img_dir=r\"/content/dataset/train/img\",\n",
        "    label_dir=r\"/content/dataset/train/labels\",\n",
        "    transform=train_transform)\n",
        "\n",
        "val_dataset = CustomImageDataset(\n",
        "    img_dir=r\"/content/dataset/val/img\",\n",
        "    label_dir=r\"/content/dataset/val/labels\",\n",
        "    transform=test_transform)\n",
        "\n",
        "training_loader = torch.utils.data.DataLoader(train_dataset, batch_size=BATCH_SIZE, shuffle=False)\n",
        "validation_loader = torch.utils.data.DataLoader(val_dataset, batch_size=BATCH_SIZE, shuffle=False)\n",
        "\n",
        "if __name__ == \"__main__\":\n",
        "\n",
        "    print(\"[INFO] total training samples: {}...\".format(len(train_dataset)))\n",
        "    print(\"[INFO] total test samples: {}...\".format(len(val_dataset)))\n",
        "    # calculate steps per epoch for training and validation set\n",
        "    trainSteps = math.ceil(len(train_dataset) / BATCH_SIZE)\n",
        "    valSteps = math.ceil(len(val_dataset) / BATCH_SIZE)\n",
        "    # create data loaders\n",
        "    trainLoader = DataLoader(train_dataset, batch_size=BATCH_SIZE,\n",
        "                             shuffle=True, num_workers=os.cpu_count(), pin_memory=PIN_MEMORY)\n",
        "    testLoader = DataLoader(val_dataset, batch_size=BATCH_SIZE,\n",
        "                            num_workers=os.cpu_count(), pin_memory=PIN_MEMORY)\n",
        "\n",
        "    # Network\n",
        "    # load the ResNet50 network\n",
        "    backbone = resnet18(pretrained=False)\n",
        "    # freeze all ResNet50 layers so they will *not* be updated during the\n",
        "    # training process\n",
        "    params = backbone.state_dict()\n",
        "    list_layers = list(params.keys())\n",
        "    for name, param in backbone.named_parameters():\n",
        "        if name in list_layers[0:]:\n",
        "            param.requires_grad = True\n",
        "        else:\n",
        "            param.requires_grad = False\n",
        "\n",
        "    # create our custom object detector model and flash it to the current\n",
        "    # device\n",
        "    objectDetector = ObjectDetector(backbone, len(CLASSES))\n",
        "    objectDetector = objectDetector.to(DEVICE)\n",
        "    # define our loss functions\n",
        "\n",
        "    classLossFunc = CrossEntropyLoss()\n",
        "    probLossFunc = BCELoss()\n",
        "\n",
        "    bboxLossFunc = DIoULoss()\n",
        "    # initialize the optimizer, compile the model, and show the model\n",
        "    # summary\n",
        "    opt = optim.Adam(objectDetector.parameters(), lr=INIT_LR)\n",
        "\n",
        "    # initialize a dictionary to store training history\n",
        "    H = {\"total_train_loss\": [], \"total_val_loss\": [], \"train_class_acc\": [],\n",
        "         \"val_class_acc\": [], \"train_iou\": [], \"val_iou\": []}\n",
        "\n",
        "    if wb_visu:\n",
        "        w_b = WeightandBiaises(project_name=\"circle_detection\", run_id=model_name, interval_display=50)\n",
        "    else:\n",
        "        w_b = None\n",
        "\n",
        "    # loop over epochs\n",
        "    print(\"[INFO] training the network...\")\n",
        "    startTime = time.time()\n",
        "    for e in tqdm(range(NUM_EPOCHS)):\n",
        "        # set the model in training mode\n",
        "        objectDetector.train()\n",
        "        # initialize the total training and validation loss\n",
        "        totalTrainLoss = 0\n",
        "        totalValLoss = 0\n",
        "        # initialize the number of correct predictions in the training\n",
        "        # and validation step\n",
        "        trainCorrect = 0\n",
        "        valCorrect = 0\n",
        "\n",
        "        train_iou = 0\n",
        "        val_iou = 0\n",
        "\n",
        "        # loop over the training set\n",
        "        for (images, labels, bboxes, probs, filenames) in trainLoader:\n",
        "            # send the input to the device\n",
        "            labels = torch.Tensor(labels)\n",
        "            # bboxes = torch.stack(bboxes, dim=1)\n",
        "\n",
        "            bboxes = bboxes.to(torch.float32)\n",
        "            bboxes = torch.squeeze(bboxes, 1)\n",
        "\n",
        "            (images, labels, bboxes, probs) = (images.to(DEVICE),\n",
        "                                        labels.to(DEVICE), bboxes.to(DEVICE), probs.to(DEVICE))\n",
        "            # perform a forward pass and calculate the training loss\n",
        "            opt.zero_grad()\n",
        "            predictions = objectDetector(images)\n",
        "            bboxLoss = bboxLossFunc(predictions[0], bboxes)\n",
        "            prob_loss = probLossFunc(predictions[2], probs.float())\n",
        "            totalLoss = BBOX * bboxLoss + prob_loss * LABELS\n",
        "\n",
        "            totalLoss = totalLoss.to(torch.float)\n",
        "\n",
        "            # zero out the gradients, perform the backpropagation step,\n",
        "            # and update the weights\n",
        "\n",
        "            totalLoss.backward()\n",
        "            opt.step()\n",
        "            # add the loss to the total training loss so far and\n",
        "            # calculate the number of correct predictions\n",
        "            train_iou += batch_iou(a=predictions[0].detach().cpu().numpy(), b=bboxes.cpu().numpy()).sum() / len(bboxes)\n",
        "            totalTrainLoss += totalLoss\n",
        "            trainCorrect += (predictions[1].argmax(1) == labels).type(torch.float).sum().item()\n",
        "\n",
        "        # switch off autograd\n",
        "        with torch.no_grad():\n",
        "            # set the model in evaluation mode\n",
        "            objectDetector.eval()\n",
        "            # loop over the validation set\n",
        "            for (images, labels, bboxes, probs, _) in testLoader:\n",
        "                # send the input to the device\n",
        "                labels = torch.Tensor(labels)\n",
        "                bboxes = torch.squeeze(bboxes, 1)\n",
        "\n",
        "                # bboxes = torch.stack(bboxes, dim=1)\n",
        "                (images, labels, bboxes, probs) = (images.to(DEVICE),\n",
        "                                            labels.to(DEVICE), bboxes.to(DEVICE), probs.to(DEVICE))\n",
        "                # make the predictions and calculate the validation loss\n",
        "                predictions = objectDetector(images)\n",
        "\n",
        "                bboxLoss = bboxLossFunc(predictions[0], bboxes.to(torch.float32))\n",
        "                prob_loss = probLossFunc(predictions[2], probs.float())\n",
        "                totalLoss = BBOX * bboxLoss\n",
        "                totalValLoss += totalLoss\n",
        "                # calculate the number of correct predictions\n",
        "                val_iou += batch_iou(a=predictions[0].detach().cpu().numpy(), b=bboxes.cpu().numpy()).sum() / len(\n",
        "                    bboxes)\n",
        "                valCorrect += (predictions[1].argmax(1) == labels).type(torch.float).sum().item()\n",
        "\n",
        "                if w_b is not None:\n",
        "                    w_b.plot_one_batch(predictions[0], images, [None]*len(predictions[0]), e)\n",
        "\n",
        "        # calculate the average training and validation loss\n",
        "        avgTrainLoss = totalTrainLoss / trainSteps\n",
        "        avgValLoss = totalValLoss / valSteps\n",
        "        # calculate the training and validation accuracy\n",
        "        trainCorrect = trainCorrect / len(train_dataset)\n",
        "        valCorrect = valCorrect / len(val_dataset)\n",
        "        # update our training history\n",
        "        H[\"total_train_loss\"].append(avgTrainLoss.cpu().detach().numpy())\n",
        "        H[\"train_class_acc\"].append(trainCorrect)\n",
        "        H[\"total_val_loss\"].append(avgValLoss.cpu().detach().numpy())\n",
        "        H[\"val_class_acc\"].append(valCorrect)\n",
        "        H[\"train_iou\"].append(train_iou / trainSteps)\n",
        "        H[\"val_iou\"].append(val_iou / valSteps)\n",
        "        # print the model training and validation information\n",
        "        print(\"[INFO] EPOCH: {}/{}\".format(e + 1, NUM_EPOCHS))\n",
        "        print(\"Train loss: {:.6f}, Train accuracy: {:.8f}\".format(\n",
        "            avgTrainLoss, train_iou / trainSteps))\n",
        "        print(\"Val loss: {:.6f}, Val accuracy: {:.8f}\".format(\n",
        "            avgValLoss, val_iou / valSteps))\n",
        "        endTime = time.time()\n",
        "        print(\"[INFO] total time taken to train the model: {:.2f}s\".format(\n",
        "            endTime - startTime))\n",
        "\n",
        "        if w_b is not None:\n",
        "            w_b.log_accuracy(train_accuracy=train_iou, test_accuracy=val_iou, epoch=e)\n",
        "            w_b.log_losses(train_loss=avgTrainLoss.cpu().detach().numpy(), test_loss=avgValLoss.cpu().detach().numpy(), epoch=e)\n",
        "            w_b.log_table(e)\n",
        "\n",
        "    # serialize the model to disk\n",
        "    print(\"[INFO] saving object detector model...\")\n",
        "    # torch.save(objectDetector, MODEL_PATH)\n",
        "    # serialize the label encoder to disk\n",
        "    print(\"[INFO] saving label encoder...\")\n",
        "    output_path = \"trained_models\"\n",
        "    torch.save(objectDetector, os.path.join(\"/content/drive/MyDrive/Evry/model_detection_membrane\", model_name + '.pt'))\n",
        "    create_directory(output_path)\n",
        "    torch.save(objectDetector, os.path.join(output_path, model_name + '.pt'))\n",
        "    if w_b is not None:\n",
        "        w_b.save_model(model_path=os.path.join(output_path, model_name + \".pth\"))\n",
        "    print(\"[INFO] Model was saved online\")\n",
        "    # f = open(LE_PATH, \"wb\")\n",
        "    # f.write(pickle.dumps(le))\n",
        "    # f.close()\n",
        "    # plot the training loss and accuracy\n",
        "    plt.style.use(\"ggplot\")\n",
        "    plt.figure()\n",
        "    plt.plot(H[\"total_train_loss\"], label=\"total_train_loss\")\n",
        "    plt.plot(H[\"total_val_loss\"], label=\"total_val_loss\")\n",
        "    plt.plot(H[\"train_iou\"], label=\"train_acc_iou\")\n",
        "    plt.plot(H[\"val_iou\"], label=\"val_acc_iou\")\n",
        "    plt.title(\"Total Training Loss and Classification Accuracy on Dataset\")\n",
        "    plt.xlabel(\"Epoch #\")\n",
        "    plt.ylabel(\"Loss/Accuracy\")\n",
        "    plt.legend(loc=\"lower left\")\n",
        "    # save the training plot\n",
        "    plt.show()\n"
      ]
    },
    {
      "cell_type": "code",
      "execution_count": null,
      "metadata": {
        "colab": {
          "base_uri": "https://localhost:8080/"
        },
        "id": "XJRNF00ZLgdm",
        "outputId": "b8c967c0-8b09-4387-e284-14e687f45afd"
      },
      "outputs": [
        {
          "data": {
            "text/plain": [
              "array([[0.499613  , 0.5342535 , 0.49815556, 0.46239403],\n",
              "       [0.49921042, 0.5332299 , 0.4974247 , 0.46205884],\n",
              "       [0.49971265, 0.5347713 , 0.49819928, 0.46289167],\n",
              "       [0.500562  , 0.5350287 , 0.4979017 , 0.4635175 ],\n",
              "       [0.49966407, 0.5347409 , 0.49802977, 0.4638134 ],\n",
              "       [0.49946877, 0.53417414, 0.4980976 , 0.4627552 ],\n",
              "       [0.50093335, 0.5353431 , 0.49811497, 0.46422887],\n",
              "       [0.5019656 , 0.53539795, 0.49767727, 0.46393022],\n",
              "       [0.49962917, 0.5344855 , 0.49814186, 0.4627451 ],\n",
              "       [0.4998826 , 0.534221  , 0.49777544, 0.46322858],\n",
              "       [0.500346  , 0.5346179 , 0.49830714, 0.46264976],\n",
              "       [0.5004357 , 0.5350996 , 0.49795952, 0.46434438],\n",
              "       [0.5006531 , 0.5352811 , 0.49781176, 0.46412745],\n",
              "       [0.50026107, 0.53483325, 0.49813148, 0.462972  ],\n",
              "       [0.49956504, 0.53434056, 0.49800357, 0.4625159 ]], dtype=float32)"
            ]
          },
          "execution_count": 42,
          "metadata": {},
          "output_type": "execute_result"
        }
      ],
      "source": [
        "predictions[0].detach().cpu().numpy()"
      ]
    },
    {
      "cell_type": "code",
      "execution_count": null,
      "metadata": {
        "colab": {
          "base_uri": "https://localhost:8080/"
        },
        "id": "487gwAPmXFm_",
        "outputId": "d679763e-e313-4569-e177-2a69480a7aa2"
      },
      "outputs": [
        {
          "data": {
            "text/plain": [
              "array([[0.35416667, 0.20506536, 0.64875731, 0.64133987],\n",
              "       [0.35709064, 0.22086057, 0.6494883 , 0.65631808],\n",
              "       [0.32346491, 0.23257081, 0.61421784, 0.67538126],\n",
              "       [0.31487573, 0.35321351, 0.60836988, 0.791939  ],\n",
              "       [0.32226562, 0.25768668, 0.61914062, 0.69253294],\n",
              "       [0.36641082, 0.25      , 0.65679825, 0.69308279],\n",
              "       [0.38476562, 0.19326501, 0.67578125, 0.62518302],\n",
              "       [0.35839844, 0.20204978, 0.64550781, 0.63543192],\n",
              "       [0.4250731 , 0.36764706, 0.71820175, 0.80092593],\n",
              "       [0.38121345, 0.18300654, 0.67306287, 0.62118736],\n",
              "       [0.28782895, 0.30010893, 0.57913012, 0.73720044],\n",
              "       [0.36132812, 0.26939971, 0.64941406, 0.69985359],\n",
              "       [0.35546875, 0.21083455, 0.64257812, 0.63689605],\n",
              "       [0.33534357, 0.2421024 , 0.62792398, 0.67810458],\n",
              "       [0.32913012, 0.23366013, 0.62061404, 0.67184096]])"
            ]
          },
          "execution_count": 43,
          "metadata": {},
          "output_type": "execute_result"
        }
      ],
      "source": [
        "bboxes.cpu().numpy()"
      ]
    },
    {
      "cell_type": "code",
      "execution_count": null,
      "metadata": {
        "id": "cqkd0C8z4hrJ"
      },
      "outputs": [],
      "source": [
        "!mkdir \"trained_models\""
      ]
    },
    {
      "cell_type": "code",
      "execution_count": null,
      "metadata": {
        "colab": {
          "base_uri": "https://localhost:8080/",
          "height": 169
        },
        "id": "VNVu7wjvvc-b",
        "outputId": "6d57e278-a56f-473b-b01c-d21ce1d8517d"
      },
      "outputs": [
        {
          "ename": "FileExistsError",
          "evalue": "ignored",
          "output_type": "error",
          "traceback": [
            "\u001b[0;31m---------------------------------------------------------------------------\u001b[0m",
            "\u001b[0;31mFileExistsError\u001b[0m                           Traceback (most recent call last)",
            "\u001b[0;32m<ipython-input-70-3d62ac6d08df>\u001b[0m in \u001b[0;36m<cell line: 1>\u001b[0;34m()\u001b[0m\n\u001b[0;32m----> 1\u001b[0;31m \u001b[0mos\u001b[0m\u001b[0;34m.\u001b[0m\u001b[0mmkdir\u001b[0m\u001b[0;34m(\u001b[0m\u001b[0;34m\"trained_models\"\u001b[0m\u001b[0;34m)\u001b[0m\u001b[0;34m\u001b[0m\u001b[0;34m\u001b[0m\u001b[0m\n\u001b[0m",
            "\u001b[0;31mFileExistsError\u001b[0m: [Errno 17] File exists: 'trained_models'"
          ]
        }
      ],
      "source": [
        "os.mkdir(\"trained_models\")"
      ]
    },
    {
      "cell_type": "code",
      "execution_count": null,
      "metadata": {
        "id": "bSDn1E5m4fRx"
      },
      "outputs": [],
      "source": [
        "torch.save(objectDetector, os.path.join(\"trained_models\", model_name + '.pt'))"
      ]
    },
    {
      "cell_type": "code",
      "execution_count": 5,
      "metadata": {
        "colab": {
          "base_uri": "https://localhost:8080/",
          "height": 241
        },
        "id": "cWFV57bja79Y",
        "outputId": "1f331b11-51c6-4ef8-b6e1-cdb6015a7186"
      },
      "outputs": [
        {
          "output_type": "error",
          "ename": "NameError",
          "evalue": "ignored",
          "traceback": [
            "\u001b[0;31m---------------------------------------------------------------------------\u001b[0m",
            "\u001b[0;31mNameError\u001b[0m                                 Traceback (most recent call last)",
            "\u001b[0;32m<ipython-input-5-00f5a70ed2c2>\u001b[0m in \u001b[0;36m<cell line: 3>\u001b[0;34m()\u001b[0m\n\u001b[1;32m      1\u001b[0m \u001b[0;32mfrom\u001b[0m \u001b[0mmetrics\u001b[0m \u001b[0;32mimport\u001b[0m \u001b[0mget_iou\u001b[0m\u001b[0;34m\u001b[0m\u001b[0;34m\u001b[0m\u001b[0m\n\u001b[1;32m      2\u001b[0m \u001b[0;34m\u001b[0m\u001b[0m\n\u001b[0;32m----> 3\u001b[0;31m val_dataset = CustomImageDataset(\n\u001b[0m\u001b[1;32m      4\u001b[0m     \u001b[0mimg_dir\u001b[0m\u001b[0;34m=\u001b[0m\u001b[0;34mr\"/content/dataset/val/img\"\u001b[0m\u001b[0;34m,\u001b[0m\u001b[0;34m\u001b[0m\u001b[0;34m\u001b[0m\u001b[0m\n\u001b[1;32m      5\u001b[0m     label_dir=r\"/content/dataset/val/labels\", transform=test_transform)\n",
            "\u001b[0;31mNameError\u001b[0m: name 'CustomImageDataset' is not defined"
          ]
        }
      ],
      "source": [
        "from metrics import get_iou\n",
        "\n",
        "val_dataset = CustomImageDataset(\n",
        "    img_dir=r\"/content/dataset/val/img\",\n",
        "    label_dir=r\"/content/dataset/val/labels\", transform=test_transform)\n",
        "\n",
        "\n",
        "validation_loader = torch.utils.data.DataLoader(val_dataset, batch_size=4, shuffle=False)\n",
        "\n",
        "idx = 1\n",
        "\n",
        "start = time.time()\n",
        "\n",
        "model = torch.load(r\"/content/CircleDetection/trained_models/legio2.pt\")\n",
        "model.eval()\n",
        "model.to('cpu')\n",
        "\n",
        "avg_iou = 0\n",
        "\n",
        "with torch.no_grad():\n",
        "\n",
        "    # print(train_dataset[0][0])\n",
        "    sample = val_dataset[idx]\n",
        "    image = sample[0].type(torch.FloatTensor)\n",
        "\n",
        "    image = torch.unsqueeze(image, 0)\n",
        "\n",
        "    output = model(image)[0]\n",
        "    \n",
        "    # iou = get_iou(output[0][0], sample[2][0])\n",
        "    # print(sample[-1], iou)\n",
        "    # avg_iou += iou\n",
        "\n",
        "\n",
        "\n",
        "    image = cv2.imread(os.path.join(r\"/content/dataset/val/img\", val_dataset[idx][-1]))\n",
        "\n",
        "    coords = np.array(output[0])\n",
        "    coords = np.expand_dims(coords, axis=0)\n",
        "    coords = remap_coords(bboxes=coords, img_size=image.shape[:2])\n",
        "    print(coords)\n",
        "    for coord in coords:\n",
        "      cv2.rectangle(image, (coord[0], coord[1]), (coord[2], coord[3]), (0, 255, 255), 1)\n",
        "    plt.imshow(image)\n",
        "    plt.show()\n"
      ]
    },
    {
      "cell_type": "code",
      "execution_count": 57,
      "metadata": {
        "id": "ShvqpenMv2_v"
      },
      "outputs": [],
      "source": [
        "def remap_coords(bboxes: np.array, img_size: typing.Tuple[int, int]):\n",
        "  bboxes[:, 0] = bboxes[:, 0] * img_size[1]\n",
        "  bboxes[:, 1] = bboxes[:, 1] * img_size[0]\n",
        "  bboxes[:, 2] = bboxes[:, 2] * img_size[1]\n",
        "  bboxes[:, 3] = bboxes[:, 3] * img_size[0]\n",
        "  return np.round(bboxes).astype(int)"
      ]
    },
    {
      "cell_type": "code",
      "execution_count": null,
      "metadata": {
        "colab": {
          "base_uri": "https://localhost:8080/"
        },
        "id": "Hg43W9uFYsvs",
        "outputId": "35a33754-ace8-4c76-d439-cca5e0317886"
      },
      "outputs": [
        {
          "data": {
            "text/plain": [
              "(tensor([[0.5131, 0.5528, 0.6523, 0.6873]], grad_fn=<SigmoidBackward0>),\n",
              " tensor([[0.0693]], grad_fn=<AddmmBackward0>))"
            ]
          },
          "execution_count": 64,
          "metadata": {},
          "output_type": "execute_result"
        }
      ],
      "source": [
        "sample = val_dataset[100]\n",
        "image = sample[0].type(torch.FloatTensor)\n",
        "\n",
        "image = torch.unsqueeze(image, 0)\n",
        "\n",
        "output = model(image)\n",
        "output"
      ]
    }
  ],
  "metadata": {
    "accelerator": "GPU",
    "colab": {
      "machine_shape": "hm",
      "provenance": []
    },
    "kernelspec": {
      "display_name": "Python 3",
      "name": "python3"
    },
    "language_info": {
      "name": "python"
    },
    "widgets": {
      "application/vnd.jupyter.widget-state+json": {
        "051ecf0f609541dbadf446c348102194": {
          "model_module": "@jupyter-widgets/controls",
          "model_module_version": "1.5.0",
          "model_name": "VBoxModel",
          "state": {
            "_dom_classes": [],
            "_model_module": "@jupyter-widgets/controls",
            "_model_module_version": "1.5.0",
            "_model_name": "VBoxModel",
            "_view_count": null,
            "_view_module": "@jupyter-widgets/controls",
            "_view_module_version": "1.5.0",
            "_view_name": "VBoxView",
            "box_style": "",
            "children": [
              "IPY_MODEL_bab3a9fdac9849759e230b164db4e026",
              "IPY_MODEL_8d789048f30c493ab8883451ca340222"
            ],
            "layout": "IPY_MODEL_ce36b7d43edd487e96a50523bfe05a6f"
          }
        },
        "4a73a668483742b0baaf79d948253401": {
          "model_module": "@jupyter-widgets/controls",
          "model_module_version": "1.5.0",
          "model_name": "ProgressStyleModel",
          "state": {
            "_model_module": "@jupyter-widgets/controls",
            "_model_module_version": "1.5.0",
            "_model_name": "ProgressStyleModel",
            "_view_count": null,
            "_view_module": "@jupyter-widgets/base",
            "_view_module_version": "1.2.0",
            "_view_name": "StyleView",
            "bar_color": null,
            "description_width": ""
          }
        },
        "4cb6ccee6f124b8696f4d3eb53526234": {
          "model_module": "@jupyter-widgets/base",
          "model_module_version": "1.2.0",
          "model_name": "LayoutModel",
          "state": {
            "_model_module": "@jupyter-widgets/base",
            "_model_module_version": "1.2.0",
            "_model_name": "LayoutModel",
            "_view_count": null,
            "_view_module": "@jupyter-widgets/base",
            "_view_module_version": "1.2.0",
            "_view_name": "LayoutView",
            "align_content": null,
            "align_items": null,
            "align_self": null,
            "border": null,
            "bottom": null,
            "display": null,
            "flex": null,
            "flex_flow": null,
            "grid_area": null,
            "grid_auto_columns": null,
            "grid_auto_flow": null,
            "grid_auto_rows": null,
            "grid_column": null,
            "grid_gap": null,
            "grid_row": null,
            "grid_template_areas": null,
            "grid_template_columns": null,
            "grid_template_rows": null,
            "height": null,
            "justify_content": null,
            "justify_items": null,
            "left": null,
            "margin": null,
            "max_height": null,
            "max_width": null,
            "min_height": null,
            "min_width": null,
            "object_fit": null,
            "object_position": null,
            "order": null,
            "overflow": null,
            "overflow_x": null,
            "overflow_y": null,
            "padding": null,
            "right": null,
            "top": null,
            "visibility": null,
            "width": null
          }
        },
        "8d789048f30c493ab8883451ca340222": {
          "model_module": "@jupyter-widgets/controls",
          "model_module_version": "1.5.0",
          "model_name": "FloatProgressModel",
          "state": {
            "_dom_classes": [],
            "_model_module": "@jupyter-widgets/controls",
            "_model_module_version": "1.5.0",
            "_model_name": "FloatProgressModel",
            "_view_count": null,
            "_view_module": "@jupyter-widgets/controls",
            "_view_module_version": "1.5.0",
            "_view_name": "ProgressView",
            "bar_style": "",
            "description": "",
            "description_tooltip": null,
            "layout": "IPY_MODEL_4cb6ccee6f124b8696f4d3eb53526234",
            "max": 1,
            "min": 0,
            "orientation": "horizontal",
            "style": "IPY_MODEL_4a73a668483742b0baaf79d948253401",
            "value": 1
          }
        },
        "98eeb4764ba24a1190931e2a3b3e0708": {
          "model_module": "@jupyter-widgets/base",
          "model_module_version": "1.2.0",
          "model_name": "LayoutModel",
          "state": {
            "_model_module": "@jupyter-widgets/base",
            "_model_module_version": "1.2.0",
            "_model_name": "LayoutModel",
            "_view_count": null,
            "_view_module": "@jupyter-widgets/base",
            "_view_module_version": "1.2.0",
            "_view_name": "LayoutView",
            "align_content": null,
            "align_items": null,
            "align_self": null,
            "border": null,
            "bottom": null,
            "display": null,
            "flex": null,
            "flex_flow": null,
            "grid_area": null,
            "grid_auto_columns": null,
            "grid_auto_flow": null,
            "grid_auto_rows": null,
            "grid_column": null,
            "grid_gap": null,
            "grid_row": null,
            "grid_template_areas": null,
            "grid_template_columns": null,
            "grid_template_rows": null,
            "height": null,
            "justify_content": null,
            "justify_items": null,
            "left": null,
            "margin": null,
            "max_height": null,
            "max_width": null,
            "min_height": null,
            "min_width": null,
            "object_fit": null,
            "object_position": null,
            "order": null,
            "overflow": null,
            "overflow_x": null,
            "overflow_y": null,
            "padding": null,
            "right": null,
            "top": null,
            "visibility": null,
            "width": null
          }
        },
        "a21b7b1fc13d44d2a7ae10ce8b1f3528": {
          "model_module": "@jupyter-widgets/controls",
          "model_module_version": "1.5.0",
          "model_name": "DescriptionStyleModel",
          "state": {
            "_model_module": "@jupyter-widgets/controls",
            "_model_module_version": "1.5.0",
            "_model_name": "DescriptionStyleModel",
            "_view_count": null,
            "_view_module": "@jupyter-widgets/base",
            "_view_module_version": "1.2.0",
            "_view_name": "StyleView",
            "description_width": ""
          }
        },
        "bab3a9fdac9849759e230b164db4e026": {
          "model_module": "@jupyter-widgets/controls",
          "model_module_version": "1.5.0",
          "model_name": "LabelModel",
          "state": {
            "_dom_classes": [],
            "_model_module": "@jupyter-widgets/controls",
            "_model_module_version": "1.5.0",
            "_model_name": "LabelModel",
            "_view_count": null,
            "_view_module": "@jupyter-widgets/controls",
            "_view_module_version": "1.5.0",
            "_view_name": "LabelView",
            "description": "",
            "description_tooltip": null,
            "layout": "IPY_MODEL_98eeb4764ba24a1190931e2a3b3e0708",
            "placeholder": "​",
            "style": "IPY_MODEL_a21b7b1fc13d44d2a7ae10ce8b1f3528",
            "value": "0.010 MB of 0.010 MB uploaded (0.000 MB deduped)\r"
          }
        },
        "ce36b7d43edd487e96a50523bfe05a6f": {
          "model_module": "@jupyter-widgets/base",
          "model_module_version": "1.2.0",
          "model_name": "LayoutModel",
          "state": {
            "_model_module": "@jupyter-widgets/base",
            "_model_module_version": "1.2.0",
            "_model_name": "LayoutModel",
            "_view_count": null,
            "_view_module": "@jupyter-widgets/base",
            "_view_module_version": "1.2.0",
            "_view_name": "LayoutView",
            "align_content": null,
            "align_items": null,
            "align_self": null,
            "border": null,
            "bottom": null,
            "display": null,
            "flex": null,
            "flex_flow": null,
            "grid_area": null,
            "grid_auto_columns": null,
            "grid_auto_flow": null,
            "grid_auto_rows": null,
            "grid_column": null,
            "grid_gap": null,
            "grid_row": null,
            "grid_template_areas": null,
            "grid_template_columns": null,
            "grid_template_rows": null,
            "height": null,
            "justify_content": null,
            "justify_items": null,
            "left": null,
            "margin": null,
            "max_height": null,
            "max_width": null,
            "min_height": null,
            "min_width": null,
            "object_fit": null,
            "object_position": null,
            "order": null,
            "overflow": null,
            "overflow_x": null,
            "overflow_y": null,
            "padding": null,
            "right": null,
            "top": null,
            "visibility": null,
            "width": null
          }
        }
      }
    }
  },
  "nbformat": 4,
  "nbformat_minor": 0
}